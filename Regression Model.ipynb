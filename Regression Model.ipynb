{
 "cells": [
  {
   "cell_type": "code",
   "execution_count": 215,
   "metadata": {},
   "outputs": [],
   "source": [
    "import numpy as np\n",
    "import pandas as pd"
   ]
  },
  {
   "cell_type": "code",
   "execution_count": 216,
   "metadata": {},
   "outputs": [],
   "source": [
    "df=pd.read_excel(\"covid19_jhu_csse_summary_BigQuery_bycounty.xlsx\")"
   ]
  },
  {
   "cell_type": "code",
   "execution_count": 217,
   "metadata": {},
   "outputs": [
    {
     "data": {
      "text/html": [
       "<div>\n",
       "<style scoped>\n",
       "    .dataframe tbody tr th:only-of-type {\n",
       "        vertical-align: middle;\n",
       "    }\n",
       "\n",
       "    .dataframe tbody tr th {\n",
       "        vertical-align: top;\n",
       "    }\n",
       "\n",
       "    .dataframe thead th {\n",
       "        text-align: right;\n",
       "    }\n",
       "</style>\n",
       "<table border=\"1\" class=\"dataframe\">\n",
       "  <thead>\n",
       "    <tr style=\"text-align: right;\">\n",
       "      <th></th>\n",
       "      <th>state</th>\n",
       "      <th>county</th>\n",
       "      <th>confirmed</th>\n",
       "      <th>deaths</th>\n",
       "      <th>recovered</th>\n",
       "      <th>active</th>\n",
       "    </tr>\n",
       "  </thead>\n",
       "  <tbody>\n",
       "    <tr>\n",
       "      <th>30</th>\n",
       "      <td>Iowa</td>\n",
       "      <td>Iowa</td>\n",
       "      <td>24</td>\n",
       "      <td>0</td>\n",
       "      <td>0</td>\n",
       "      <td>24</td>\n",
       "    </tr>\n",
       "    <tr>\n",
       "      <th>31</th>\n",
       "      <td>Iowa</td>\n",
       "      <td>Iowa</td>\n",
       "      <td>26</td>\n",
       "      <td>0</td>\n",
       "      <td>0</td>\n",
       "      <td>26</td>\n",
       "    </tr>\n",
       "    <tr>\n",
       "      <th>32</th>\n",
       "      <td>Iowa</td>\n",
       "      <td>Iowa</td>\n",
       "      <td>27</td>\n",
       "      <td>0</td>\n",
       "      <td>0</td>\n",
       "      <td>27</td>\n",
       "    </tr>\n",
       "    <tr>\n",
       "      <th>33</th>\n",
       "      <td>Iowa</td>\n",
       "      <td>Iowa</td>\n",
       "      <td>27</td>\n",
       "      <td>0</td>\n",
       "      <td>0</td>\n",
       "      <td>27</td>\n",
       "    </tr>\n",
       "    <tr>\n",
       "      <th>34</th>\n",
       "      <td>Iowa</td>\n",
       "      <td>Iowa</td>\n",
       "      <td>27</td>\n",
       "      <td>0</td>\n",
       "      <td>0</td>\n",
       "      <td>27</td>\n",
       "    </tr>\n",
       "  </tbody>\n",
       "</table>\n",
       "</div>"
      ],
      "text/plain": [
       "   state county  confirmed  deaths  recovered  active\n",
       "30  Iowa   Iowa         24       0          0      24\n",
       "31  Iowa   Iowa         26       0          0      26\n",
       "32  Iowa   Iowa         27       0          0      27\n",
       "33  Iowa   Iowa         27       0          0      27\n",
       "34  Iowa   Iowa         27       0          0      27"
      ]
     },
     "execution_count": 217,
     "metadata": {},
     "output_type": "execute_result"
    }
   ],
   "source": [
    "df.head()"
   ]
  },
  {
   "cell_type": "code",
   "execution_count": 218,
   "metadata": {},
   "outputs": [],
   "source": [
    "death=df.groupby(\"county\").max()"
   ]
  },
  {
   "cell_type": "code",
   "execution_count": 219,
   "metadata": {},
   "outputs": [],
   "source": [
    "death.drop([\"state\"],axis=1,inplace=True)"
   ]
  },
  {
   "cell_type": "code",
   "execution_count": 220,
   "metadata": {},
   "outputs": [
    {
     "data": {
      "text/html": [
       "<div>\n",
       "<style scoped>\n",
       "    .dataframe tbody tr th:only-of-type {\n",
       "        vertical-align: middle;\n",
       "    }\n",
       "\n",
       "    .dataframe tbody tr th {\n",
       "        vertical-align: top;\n",
       "    }\n",
       "\n",
       "    .dataframe thead th {\n",
       "        text-align: right;\n",
       "    }\n",
       "</style>\n",
       "<table border=\"1\" class=\"dataframe\">\n",
       "  <thead>\n",
       "    <tr style=\"text-align: right;\">\n",
       "      <th></th>\n",
       "      <th>confirmed</th>\n",
       "      <th>deaths</th>\n",
       "      <th>recovered</th>\n",
       "      <th>active</th>\n",
       "    </tr>\n",
       "    <tr>\n",
       "      <th>county</th>\n",
       "      <th></th>\n",
       "      <th></th>\n",
       "      <th></th>\n",
       "      <th></th>\n",
       "    </tr>\n",
       "  </thead>\n",
       "  <tbody>\n",
       "    <tr>\n",
       "      <th>Abbeville</th>\n",
       "      <td>34</td>\n",
       "      <td>0</td>\n",
       "      <td>0</td>\n",
       "      <td>34</td>\n",
       "    </tr>\n",
       "    <tr>\n",
       "      <th>Acadia</th>\n",
       "      <td>152</td>\n",
       "      <td>11</td>\n",
       "      <td>0</td>\n",
       "      <td>141</td>\n",
       "    </tr>\n",
       "    <tr>\n",
       "      <th>Accomack</th>\n",
       "      <td>524</td>\n",
       "      <td>7</td>\n",
       "      <td>0</td>\n",
       "      <td>517</td>\n",
       "    </tr>\n",
       "    <tr>\n",
       "      <th>Ada</th>\n",
       "      <td>739</td>\n",
       "      <td>21</td>\n",
       "      <td>0</td>\n",
       "      <td>718</td>\n",
       "    </tr>\n",
       "    <tr>\n",
       "      <th>Adair</th>\n",
       "      <td>88</td>\n",
       "      <td>13</td>\n",
       "      <td>0</td>\n",
       "      <td>76</td>\n",
       "    </tr>\n",
       "  </tbody>\n",
       "</table>\n",
       "</div>"
      ],
      "text/plain": [
       "           confirmed  deaths  recovered  active\n",
       "county                                         \n",
       "Abbeville         34       0          0      34\n",
       "Acadia           152      11          0     141\n",
       "Accomack         524       7          0     517\n",
       "Ada              739      21          0     718\n",
       "Adair             88      13          0      76"
      ]
     },
     "execution_count": 220,
     "metadata": {},
     "output_type": "execute_result"
    }
   ],
   "source": [
    "death.head()"
   ]
  },
  {
   "cell_type": "code",
   "execution_count": 221,
   "metadata": {},
   "outputs": [
    {
     "data": {
      "text/html": [
       "<div>\n",
       "<style scoped>\n",
       "    .dataframe tbody tr th:only-of-type {\n",
       "        vertical-align: middle;\n",
       "    }\n",
       "\n",
       "    .dataframe tbody tr th {\n",
       "        vertical-align: top;\n",
       "    }\n",
       "\n",
       "    .dataframe thead th {\n",
       "        text-align: right;\n",
       "    }\n",
       "</style>\n",
       "<table border=\"1\" class=\"dataframe\">\n",
       "  <thead>\n",
       "    <tr style=\"text-align: right;\">\n",
       "      <th></th>\n",
       "      <th>Population under 18 years</th>\n",
       "      <th>Population 18 to 64 years</th>\n",
       "      <th>Population 65 years and over</th>\n",
       "      <th>Population with a hearing difficulty</th>\n",
       "      <th>Population with a vision difficulty</th>\n",
       "      <th>Population 5 years and over with a cognitive difficulty</th>\n",
       "      <th>Population 5 years and over with an ambulatory difficulty</th>\n",
       "      <th>Population 5 years and over with a self-care difficulty</th>\n",
       "      <th>Population 18 years and over with an independent living difficulty</th>\n",
       "      <th>Population with a disability</th>\n",
       "      <th>population under 18 with disability</th>\n",
       "      <th>population between 18 to 64 with disability</th>\n",
       "      <th>population above 64 with disability</th>\n",
       "    </tr>\n",
       "    <tr>\n",
       "      <th>NAME</th>\n",
       "      <th></th>\n",
       "      <th></th>\n",
       "      <th></th>\n",
       "      <th></th>\n",
       "      <th></th>\n",
       "      <th></th>\n",
       "      <th></th>\n",
       "      <th></th>\n",
       "      <th></th>\n",
       "      <th></th>\n",
       "      <th></th>\n",
       "      <th></th>\n",
       "      <th></th>\n",
       "    </tr>\n",
       "  </thead>\n",
       "  <tbody>\n",
       "    <tr>\n",
       "      <th>Abbeville</th>\n",
       "      <td>5164</td>\n",
       "      <td>14313</td>\n",
       "      <td>4954</td>\n",
       "      <td>1359</td>\n",
       "      <td>1012</td>\n",
       "      <td>1685</td>\n",
       "      <td>2894</td>\n",
       "      <td>909</td>\n",
       "      <td>1912</td>\n",
       "      <td>5019</td>\n",
       "      <td>383</td>\n",
       "      <td>2435</td>\n",
       "      <td>2201</td>\n",
       "    </tr>\n",
       "    <tr>\n",
       "      <th>Acadia</th>\n",
       "      <td>16527</td>\n",
       "      <td>36635</td>\n",
       "      <td>8493</td>\n",
       "      <td>3217</td>\n",
       "      <td>3144</td>\n",
       "      <td>4648</td>\n",
       "      <td>6712</td>\n",
       "      <td>2714</td>\n",
       "      <td>4203</td>\n",
       "      <td>11657</td>\n",
       "      <td>1375</td>\n",
       "      <td>6185</td>\n",
       "      <td>4097</td>\n",
       "    </tr>\n",
       "    <tr>\n",
       "      <th>Accomack</th>\n",
       "      <td>6881</td>\n",
       "      <td>18515</td>\n",
       "      <td>7036</td>\n",
       "      <td>1342</td>\n",
       "      <td>893</td>\n",
       "      <td>1564</td>\n",
       "      <td>2416</td>\n",
       "      <td>904</td>\n",
       "      <td>1530</td>\n",
       "      <td>4320</td>\n",
       "      <td>227</td>\n",
       "      <td>1874</td>\n",
       "      <td>2219</td>\n",
       "    </tr>\n",
       "    <tr>\n",
       "      <th>Ada</th>\n",
       "      <td>109050</td>\n",
       "      <td>270636</td>\n",
       "      <td>59118</td>\n",
       "      <td>14833</td>\n",
       "      <td>8083</td>\n",
       "      <td>18386</td>\n",
       "      <td>19356</td>\n",
       "      <td>9052</td>\n",
       "      <td>15521</td>\n",
       "      <td>44581</td>\n",
       "      <td>3748</td>\n",
       "      <td>22614</td>\n",
       "      <td>18219</td>\n",
       "    </tr>\n",
       "    <tr>\n",
       "      <th>Adair</th>\n",
       "      <td>15649</td>\n",
       "      <td>45815</td>\n",
       "      <td>11498</td>\n",
       "      <td>3799</td>\n",
       "      <td>2532</td>\n",
       "      <td>4179</td>\n",
       "      <td>6862</td>\n",
       "      <td>2453</td>\n",
       "      <td>4053</td>\n",
       "      <td>12001</td>\n",
       "      <td>651</td>\n",
       "      <td>6459</td>\n",
       "      <td>4891</td>\n",
       "    </tr>\n",
       "  </tbody>\n",
       "</table>\n",
       "</div>"
      ],
      "text/plain": [
       "            Population under 18 years   Population 18 to 64 years  \\\n",
       "NAME                                                                \n",
       "Abbeville                        5164                       14313   \n",
       "Acadia                          16527                       36635   \n",
       "Accomack                         6881                       18515   \n",
       "Ada                            109050                      270636   \n",
       "Adair                           15649                       45815   \n",
       "\n",
       "            Population 65 years and over  \\\n",
       "NAME                                       \n",
       "Abbeville                           4954   \n",
       "Acadia                              8493   \n",
       "Accomack                            7036   \n",
       "Ada                                59118   \n",
       "Adair                              11498   \n",
       "\n",
       "            Population with a hearing difficulty  \\\n",
       "NAME                                               \n",
       "Abbeville                                   1359   \n",
       "Acadia                                      3217   \n",
       "Accomack                                    1342   \n",
       "Ada                                        14833   \n",
       "Adair                                       3799   \n",
       "\n",
       "            Population with a vision difficulty  \\\n",
       "NAME                                              \n",
       "Abbeville                                  1012   \n",
       "Acadia                                     3144   \n",
       "Accomack                                    893   \n",
       "Ada                                        8083   \n",
       "Adair                                      2532   \n",
       "\n",
       "            Population 5 years and over with a cognitive difficulty  \\\n",
       "NAME                                                                  \n",
       "Abbeville                                               1685          \n",
       "Acadia                                                  4648          \n",
       "Accomack                                                1564          \n",
       "Ada                                                    18386          \n",
       "Adair                                                   4179          \n",
       "\n",
       "            Population 5 years and over with an ambulatory difficulty  \\\n",
       "NAME                                                                    \n",
       "Abbeville                                               2894            \n",
       "Acadia                                                  6712            \n",
       "Accomack                                                2416            \n",
       "Ada                                                    19356            \n",
       "Adair                                                   6862            \n",
       "\n",
       "            Population 5 years and over with a self-care difficulty  \\\n",
       "NAME                                                                  \n",
       "Abbeville                                                909          \n",
       "Acadia                                                  2714          \n",
       "Accomack                                                 904          \n",
       "Ada                                                     9052          \n",
       "Adair                                                   2453          \n",
       "\n",
       "            Population 18 years and over with an independent living difficulty  \\\n",
       "NAME                                                                             \n",
       "Abbeville                                               1912                     \n",
       "Acadia                                                  4203                     \n",
       "Accomack                                                1530                     \n",
       "Ada                                                    15521                     \n",
       "Adair                                                   4053                     \n",
       "\n",
       "            Population with a disability  population under 18 with disability  \\\n",
       "NAME                                                                            \n",
       "Abbeville                           5019                                  383   \n",
       "Acadia                             11657                                 1375   \n",
       "Accomack                            4320                                  227   \n",
       "Ada                                44581                                 3748   \n",
       "Adair                              12001                                  651   \n",
       "\n",
       "           population between 18 to 64 with disability  \\\n",
       "NAME                                                     \n",
       "Abbeville                                         2435   \n",
       "Acadia                                            6185   \n",
       "Accomack                                          1874   \n",
       "Ada                                              22614   \n",
       "Adair                                             6459   \n",
       "\n",
       "           population above 64 with disability  \n",
       "NAME                                            \n",
       "Abbeville                                 2201  \n",
       "Acadia                                    4097  \n",
       "Accomack                                  2219  \n",
       "Ada                                      18219  \n",
       "Adair                                     4891  "
      ]
     },
     "execution_count": 221,
     "metadata": {},
     "output_type": "execute_result"
    }
   ],
   "source": [
    "disability=pd.read_csv(\"Disability_by_Type,_2014-2018.csv\")\n",
    "def nam(val):\n",
    "    strr=val.split(\" \")[0]\n",
    "    return strr\n",
    "disability[\"NAME\"]=disability[\"NAME\"].apply(nam)\n",
    "disability=disability.groupby(\"NAME\").sum()\n",
    "disability=disability[['\\xa0Population under 18 years','\\xa0Population under 18 years with one type of disability','\\xa0Population under 18 years with two or more types of disability','\\xa0Population 18 to 64 years','\\xa0Population 18 to 64 years with one type of disability','\\xa0Population 18 to 64 years with two or more types of disability','\\xa0Population 65 years and over','\\xa0Population 65 years and over with one type of disability','\\xa0Population 65 years and over with two or more types of disability','\\xa0Population with a hearing difficulty','\\xa0Population with a vision difficulty', '\\xa0Population 5 years and over with a cognitive difficulty', '\\xa0Population 5 years and over with an ambulatory difficulty', '\\xa0Population 5 years and over with a self-care difficulty','\\xa0Population 18 years and over with an independent living difficulty', '\\xa0Population with a disability']]\n",
    "disability[\"population under 18 with disability\"]=disability[\"\\xa0Population under 18 years with one type of disability\"]+disability['\\xa0Population under 18 years with two or more types of disability']\n",
    "disability[\"population between 18 to 64 with disability\"]=disability[\"\\xa0Population 18 to 64 years with one type of disability\"]+disability[\"\\xa0Population 18 to 64 years with two or more types of disability\"]\n",
    "disability[\"population above 64 with disability\"]=disability[\"\\xa0Population 65 years and over with one type of disability\"]+disability[\"\\xa0Population 65 years and over with two or more types of disability\"]\n",
    "disability.drop([\"\\xa0Population under 18 years with one type of disability\",'\\xa0Population under 18 years with two or more types of disability',\"\\xa0Population 18 to 64 years with one type of disability\",\"\\xa0Population 18 to 64 years with two or more types of disability\",\"\\xa0Population 65 years and over with one type of disability\",\"\\xa0Population 65 years and over with two or more types of disability\"],axis=1,inplace=True)\n",
    "disability.head()"
   ]
  },
  {
   "cell_type": "code",
   "execution_count": 222,
   "metadata": {},
   "outputs": [
    {
     "data": {
      "text/html": [
       "<div>\n",
       "<style scoped>\n",
       "    .dataframe tbody tr th:only-of-type {\n",
       "        vertical-align: middle;\n",
       "    }\n",
       "\n",
       "    .dataframe tbody tr th {\n",
       "        vertical-align: top;\n",
       "    }\n",
       "\n",
       "    .dataframe thead th {\n",
       "        text-align: right;\n",
       "    }\n",
       "</style>\n",
       "<table border=\"1\" class=\"dataframe\">\n",
       "  <thead>\n",
       "    <tr style=\"text-align: right;\">\n",
       "      <th></th>\n",
       "      <th>NUM_LICENSED_BEDS</th>\n",
       "    </tr>\n",
       "    <tr>\n",
       "      <th>COUNTY_NAME</th>\n",
       "      <th></th>\n",
       "    </tr>\n",
       "  </thead>\n",
       "  <tbody>\n",
       "    <tr>\n",
       "      <th>Abbeville</th>\n",
       "      <td>25.0</td>\n",
       "    </tr>\n",
       "    <tr>\n",
       "      <th>Acadia</th>\n",
       "      <td>170.0</td>\n",
       "    </tr>\n",
       "    <tr>\n",
       "      <th>Accomack</th>\n",
       "      <td>52.0</td>\n",
       "    </tr>\n",
       "    <tr>\n",
       "      <th>Ada</th>\n",
       "      <td>1351.0</td>\n",
       "    </tr>\n",
       "    <tr>\n",
       "      <th>Adair</th>\n",
       "      <td>185.0</td>\n",
       "    </tr>\n",
       "  </tbody>\n",
       "</table>\n",
       "</div>"
      ],
      "text/plain": [
       "             NUM_LICENSED_BEDS\n",
       "COUNTY_NAME                   \n",
       "Abbeville                 25.0\n",
       "Acadia                   170.0\n",
       "Accomack                  52.0\n",
       "Ada                     1351.0\n",
       "Adair                    185.0"
      ]
     },
     "execution_count": 222,
     "metadata": {},
     "output_type": "execute_result"
    }
   ],
   "source": [
    "#table for bed\n",
    "bed=pd.read_csv(\"Definitive_Healthcare__USA_Hospital_Beds.csv\")\n",
    "bed=bed.groupby(\"COUNTY_NAME\").sum()\n",
    "bed=bed[\"NUM_LICENSED_BEDS\"]\n",
    "bed=bed.to_frame()\n",
    "bed.head()"
   ]
  },
  {
   "cell_type": "code",
   "execution_count": 223,
   "metadata": {},
   "outputs": [
    {
     "data": {
      "text/html": [
       "<div>\n",
       "<style scoped>\n",
       "    .dataframe tbody tr th:only-of-type {\n",
       "        vertical-align: middle;\n",
       "    }\n",
       "\n",
       "    .dataframe tbody tr th {\n",
       "        vertical-align: top;\n",
       "    }\n",
       "\n",
       "    .dataframe thead th {\n",
       "        text-align: right;\n",
       "    }\n",
       "</style>\n",
       "<table border=\"1\" class=\"dataframe\">\n",
       "  <thead>\n",
       "    <tr style=\"text-align: right;\">\n",
       "      <th></th>\n",
       "      <th>TotalPop</th>\n",
       "      <th>CountyId</th>\n",
       "    </tr>\n",
       "    <tr>\n",
       "      <th>County</th>\n",
       "      <th></th>\n",
       "      <th></th>\n",
       "    </tr>\n",
       "  </thead>\n",
       "  <tbody>\n",
       "    <tr>\n",
       "      <th>Abbeville</th>\n",
       "      <td>24788</td>\n",
       "      <td>45001</td>\n",
       "    </tr>\n",
       "    <tr>\n",
       "      <th>Acadia</th>\n",
       "      <td>62607</td>\n",
       "      <td>22001</td>\n",
       "    </tr>\n",
       "    <tr>\n",
       "      <th>Accomack</th>\n",
       "      <td>32840</td>\n",
       "      <td>51001</td>\n",
       "    </tr>\n",
       "    <tr>\n",
       "      <th>Ada</th>\n",
       "      <td>435117</td>\n",
       "      <td>16001</td>\n",
       "    </tr>\n",
       "    <tr>\n",
       "      <th>Adair</th>\n",
       "      <td>74069</td>\n",
       "      <td>109004</td>\n",
       "    </tr>\n",
       "  </tbody>\n",
       "</table>\n",
       "</div>"
      ],
      "text/plain": [
       "           TotalPop  CountyId\n",
       "County                       \n",
       "Abbeville     24788     45001\n",
       "Acadia        62607     22001\n",
       "Accomack      32840     51001\n",
       "Ada          435117     16001\n",
       "Adair         74069    109004"
      ]
     },
     "execution_count": 223,
     "metadata": {},
     "output_type": "execute_result"
    }
   ],
   "source": [
    "#population table\n",
    "pop=pd.read_csv(\"acs2017_county_data.csv\")\n",
    "def nam(val):\n",
    "    strr=val.split(\" \")[0]\n",
    "    return strr\n",
    "pop[\"County\"]=pop[\"County\"].apply(nam)\n",
    "pop=pop.groupby(\"County\").sum()\n",
    "pop=pop[[\"TotalPop\",\"CountyId\"]]\n",
    "pop.head()"
   ]
  },
  {
   "cell_type": "code",
   "execution_count": 224,
   "metadata": {},
   "outputs": [
    {
     "data": {
      "text/html": [
       "<div>\n",
       "<style scoped>\n",
       "    .dataframe tbody tr th:only-of-type {\n",
       "        vertical-align: middle;\n",
       "    }\n",
       "\n",
       "    .dataframe tbody tr th {\n",
       "        vertical-align: top;\n",
       "    }\n",
       "\n",
       "    .dataframe thead th {\n",
       "        text-align: right;\n",
       "    }\n",
       "</style>\n",
       "<table border=\"1\" class=\"dataframe\">\n",
       "  <thead>\n",
       "    <tr style=\"text-align: right;\">\n",
       "      <th></th>\n",
       "      <th>HPSA_Shortage</th>\n",
       "    </tr>\n",
       "    <tr>\n",
       "      <th>County_Name</th>\n",
       "      <th></th>\n",
       "    </tr>\n",
       "  </thead>\n",
       "  <tbody>\n",
       "    <tr>\n",
       "      <th>Abbeville</th>\n",
       "      <td>2.2000</td>\n",
       "    </tr>\n",
       "    <tr>\n",
       "      <th>Acadia</th>\n",
       "      <td>3.3900</td>\n",
       "    </tr>\n",
       "    <tr>\n",
       "      <th>Accomack</th>\n",
       "      <td>0.1200</td>\n",
       "    </tr>\n",
       "    <tr>\n",
       "      <th>Ada</th>\n",
       "      <td>2.4600</td>\n",
       "    </tr>\n",
       "    <tr>\n",
       "      <th>Adair</th>\n",
       "      <td>12.8488</td>\n",
       "    </tr>\n",
       "  </tbody>\n",
       "</table>\n",
       "</div>"
      ],
      "text/plain": [
       "             HPSA_Shortage\n",
       "County_Name               \n",
       "Abbeville           2.2000\n",
       "Acadia              3.3900\n",
       "Accomack            0.1200\n",
       "Ada                 2.4600\n",
       "Adair              12.8488"
      ]
     },
     "execution_count": 224,
     "metadata": {},
     "output_type": "execute_result"
    }
   ],
   "source": [
    "#dataframe for Number of practitoner required \n",
    "pract=pd.read_excel(\"health_professional_shortage_src-bigquery.xlsx\")\n",
    "pract=pract.groupby(\"County_Name\").sum()\n",
    "pract=pract[\"HPSA_Shortage\"]\n",
    "pract=pract.to_frame()\n",
    "pract.head()"
   ]
  },
  {
   "cell_type": "code",
   "execution_count": 225,
   "metadata": {},
   "outputs": [],
   "source": [
    "final_tab=pd.concat([pop,disability,pract,bed,death], axis=1, join='inner')"
   ]
  },
  {
   "cell_type": "code",
   "execution_count": 226,
   "metadata": {},
   "outputs": [
    {
     "data": {
      "text/plain": [
       "(1330, 21)"
      ]
     },
     "execution_count": 226,
     "metadata": {},
     "output_type": "execute_result"
    }
   ],
   "source": [
    "final_tab.shape"
   ]
  },
  {
   "cell_type": "code",
   "execution_count": 227,
   "metadata": {},
   "outputs": [
    {
     "data": {
      "text/html": [
       "<div>\n",
       "<style scoped>\n",
       "    .dataframe tbody tr th:only-of-type {\n",
       "        vertical-align: middle;\n",
       "    }\n",
       "\n",
       "    .dataframe tbody tr th {\n",
       "        vertical-align: top;\n",
       "    }\n",
       "\n",
       "    .dataframe thead th {\n",
       "        text-align: right;\n",
       "    }\n",
       "</style>\n",
       "<table border=\"1\" class=\"dataframe\">\n",
       "  <thead>\n",
       "    <tr style=\"text-align: right;\">\n",
       "      <th></th>\n",
       "      <th>TotalPop</th>\n",
       "      <th>CountyId</th>\n",
       "      <th>Population under 18 years</th>\n",
       "      <th>Population 18 to 64 years</th>\n",
       "      <th>Population 65 years and over</th>\n",
       "      <th>Population with a hearing difficulty</th>\n",
       "      <th>Population with a vision difficulty</th>\n",
       "      <th>Population 5 years and over with a cognitive difficulty</th>\n",
       "      <th>Population 5 years and over with an ambulatory difficulty</th>\n",
       "      <th>Population 5 years and over with a self-care difficulty</th>\n",
       "      <th>...</th>\n",
       "      <th>Population with a disability</th>\n",
       "      <th>population under 18 with disability</th>\n",
       "      <th>population between 18 to 64 with disability</th>\n",
       "      <th>population above 64 with disability</th>\n",
       "      <th>HPSA_Shortage</th>\n",
       "      <th>NUM_LICENSED_BEDS</th>\n",
       "      <th>confirmed</th>\n",
       "      <th>deaths</th>\n",
       "      <th>recovered</th>\n",
       "      <th>active</th>\n",
       "    </tr>\n",
       "  </thead>\n",
       "  <tbody>\n",
       "    <tr>\n",
       "      <th>Abbeville</th>\n",
       "      <td>24788</td>\n",
       "      <td>45001</td>\n",
       "      <td>5164</td>\n",
       "      <td>14313</td>\n",
       "      <td>4954</td>\n",
       "      <td>1359</td>\n",
       "      <td>1012</td>\n",
       "      <td>1685</td>\n",
       "      <td>2894</td>\n",
       "      <td>909</td>\n",
       "      <td>...</td>\n",
       "      <td>5019</td>\n",
       "      <td>383</td>\n",
       "      <td>2435</td>\n",
       "      <td>2201</td>\n",
       "      <td>2.2000</td>\n",
       "      <td>25.0</td>\n",
       "      <td>34</td>\n",
       "      <td>0</td>\n",
       "      <td>0</td>\n",
       "      <td>34</td>\n",
       "    </tr>\n",
       "    <tr>\n",
       "      <th>Acadia</th>\n",
       "      <td>62607</td>\n",
       "      <td>22001</td>\n",
       "      <td>16527</td>\n",
       "      <td>36635</td>\n",
       "      <td>8493</td>\n",
       "      <td>3217</td>\n",
       "      <td>3144</td>\n",
       "      <td>4648</td>\n",
       "      <td>6712</td>\n",
       "      <td>2714</td>\n",
       "      <td>...</td>\n",
       "      <td>11657</td>\n",
       "      <td>1375</td>\n",
       "      <td>6185</td>\n",
       "      <td>4097</td>\n",
       "      <td>3.3900</td>\n",
       "      <td>170.0</td>\n",
       "      <td>152</td>\n",
       "      <td>11</td>\n",
       "      <td>0</td>\n",
       "      <td>141</td>\n",
       "    </tr>\n",
       "    <tr>\n",
       "      <th>Accomack</th>\n",
       "      <td>32840</td>\n",
       "      <td>51001</td>\n",
       "      <td>6881</td>\n",
       "      <td>18515</td>\n",
       "      <td>7036</td>\n",
       "      <td>1342</td>\n",
       "      <td>893</td>\n",
       "      <td>1564</td>\n",
       "      <td>2416</td>\n",
       "      <td>904</td>\n",
       "      <td>...</td>\n",
       "      <td>4320</td>\n",
       "      <td>227</td>\n",
       "      <td>1874</td>\n",
       "      <td>2219</td>\n",
       "      <td>0.1200</td>\n",
       "      <td>52.0</td>\n",
       "      <td>524</td>\n",
       "      <td>7</td>\n",
       "      <td>0</td>\n",
       "      <td>517</td>\n",
       "    </tr>\n",
       "    <tr>\n",
       "      <th>Ada</th>\n",
       "      <td>435117</td>\n",
       "      <td>16001</td>\n",
       "      <td>109050</td>\n",
       "      <td>270636</td>\n",
       "      <td>59118</td>\n",
       "      <td>14833</td>\n",
       "      <td>8083</td>\n",
       "      <td>18386</td>\n",
       "      <td>19356</td>\n",
       "      <td>9052</td>\n",
       "      <td>...</td>\n",
       "      <td>44581</td>\n",
       "      <td>3748</td>\n",
       "      <td>22614</td>\n",
       "      <td>18219</td>\n",
       "      <td>2.4600</td>\n",
       "      <td>1351.0</td>\n",
       "      <td>739</td>\n",
       "      <td>21</td>\n",
       "      <td>0</td>\n",
       "      <td>718</td>\n",
       "    </tr>\n",
       "    <tr>\n",
       "      <th>Adair</th>\n",
       "      <td>74069</td>\n",
       "      <td>109004</td>\n",
       "      <td>15649</td>\n",
       "      <td>45815</td>\n",
       "      <td>11498</td>\n",
       "      <td>3799</td>\n",
       "      <td>2532</td>\n",
       "      <td>4179</td>\n",
       "      <td>6862</td>\n",
       "      <td>2453</td>\n",
       "      <td>...</td>\n",
       "      <td>12001</td>\n",
       "      <td>651</td>\n",
       "      <td>6459</td>\n",
       "      <td>4891</td>\n",
       "      <td>12.8488</td>\n",
       "      <td>185.0</td>\n",
       "      <td>88</td>\n",
       "      <td>13</td>\n",
       "      <td>0</td>\n",
       "      <td>76</td>\n",
       "    </tr>\n",
       "  </tbody>\n",
       "</table>\n",
       "<p>5 rows × 21 columns</p>\n",
       "</div>"
      ],
      "text/plain": [
       "           TotalPop  CountyId   Population under 18 years  \\\n",
       "Abbeville     24788     45001                        5164   \n",
       "Acadia        62607     22001                       16527   \n",
       "Accomack      32840     51001                        6881   \n",
       "Ada          435117     16001                      109050   \n",
       "Adair         74069    109004                       15649   \n",
       "\n",
       "            Population 18 to 64 years   Population 65 years and over  \\\n",
       "Abbeville                       14313                           4954   \n",
       "Acadia                          36635                           8493   \n",
       "Accomack                        18515                           7036   \n",
       "Ada                            270636                          59118   \n",
       "Adair                           45815                          11498   \n",
       "\n",
       "            Population with a hearing difficulty  \\\n",
       "Abbeville                                   1359   \n",
       "Acadia                                      3217   \n",
       "Accomack                                    1342   \n",
       "Ada                                        14833   \n",
       "Adair                                       3799   \n",
       "\n",
       "            Population with a vision difficulty  \\\n",
       "Abbeville                                  1012   \n",
       "Acadia                                     3144   \n",
       "Accomack                                    893   \n",
       "Ada                                        8083   \n",
       "Adair                                      2532   \n",
       "\n",
       "            Population 5 years and over with a cognitive difficulty  \\\n",
       "Abbeville                                               1685          \n",
       "Acadia                                                  4648          \n",
       "Accomack                                                1564          \n",
       "Ada                                                    18386          \n",
       "Adair                                                   4179          \n",
       "\n",
       "            Population 5 years and over with an ambulatory difficulty  \\\n",
       "Abbeville                                               2894            \n",
       "Acadia                                                  6712            \n",
       "Accomack                                                2416            \n",
       "Ada                                                    19356            \n",
       "Adair                                                   6862            \n",
       "\n",
       "            Population 5 years and over with a self-care difficulty   ...    \\\n",
       "Abbeville                                                909          ...     \n",
       "Acadia                                                  2714          ...     \n",
       "Accomack                                                 904          ...     \n",
       "Ada                                                     9052          ...     \n",
       "Adair                                                   2453          ...     \n",
       "\n",
       "            Population with a disability  population under 18 with disability  \\\n",
       "Abbeville                           5019                                  383   \n",
       "Acadia                             11657                                 1375   \n",
       "Accomack                            4320                                  227   \n",
       "Ada                                44581                                 3748   \n",
       "Adair                              12001                                  651   \n",
       "\n",
       "           population between 18 to 64 with disability  \\\n",
       "Abbeville                                         2435   \n",
       "Acadia                                            6185   \n",
       "Accomack                                          1874   \n",
       "Ada                                              22614   \n",
       "Adair                                             6459   \n",
       "\n",
       "           population above 64 with disability  HPSA_Shortage  \\\n",
       "Abbeville                                 2201         2.2000   \n",
       "Acadia                                    4097         3.3900   \n",
       "Accomack                                  2219         0.1200   \n",
       "Ada                                      18219         2.4600   \n",
       "Adair                                     4891        12.8488   \n",
       "\n",
       "           NUM_LICENSED_BEDS  confirmed  deaths  recovered  active  \n",
       "Abbeville               25.0         34       0          0      34  \n",
       "Acadia                 170.0        152      11          0     141  \n",
       "Accomack                52.0        524       7          0     517  \n",
       "Ada                   1351.0        739      21          0     718  \n",
       "Adair                  185.0         88      13          0      76  \n",
       "\n",
       "[5 rows x 21 columns]"
      ]
     },
     "execution_count": 227,
     "metadata": {},
     "output_type": "execute_result"
    }
   ],
   "source": [
    "final_tab.head()"
   ]
  },
  {
   "cell_type": "code",
   "execution_count": 228,
   "metadata": {},
   "outputs": [
    {
     "data": {
      "text/plain": [
       "['TotalPop',\n",
       " '\\xa0Population under 18 years',\n",
       " '\\xa0Population 18 to 64 years',\n",
       " '\\xa0Population 65 years and over',\n",
       " '\\xa0Population with a hearing difficulty',\n",
       " '\\xa0Population with a vision difficulty',\n",
       " '\\xa0Population 5 years and over with a cognitive difficulty',\n",
       " '\\xa0Population 5 years and over with an ambulatory difficulty',\n",
       " '\\xa0Population 5 years and over with a self-care difficulty',\n",
       " '\\xa0Population 18 years and over with an independent living difficulty',\n",
       " '\\xa0Population with a disability',\n",
       " 'population under 18 with disability',\n",
       " 'population between 18 to 64 with disability',\n",
       " 'population above 64 with disability',\n",
       " 'HPSA_Shortage',\n",
       " 'NUM_LICENSED_BEDS',\n",
       " 'confirmed',\n",
       " 'deaths',\n",
       " 'recovered',\n",
       " 'active']"
      ]
     },
     "execution_count": 228,
     "metadata": {},
     "output_type": "execute_result"
    }
   ],
   "source": [
    "final_tab.drop([\"CountyId\"],axis=1,inplace=True)\n",
    "list(final_tab.columns)\n"
   ]
  },
  {
   "cell_type": "code",
   "execution_count": 229,
   "metadata": {},
   "outputs": [],
   "source": [
    "final_tab['\\xa0Population under 18 years']=final_tab['\\xa0Population under 18 years']/final_tab[\"TotalPop\"]*100\n",
    "final_tab['\\xa0Population 18 to 64 years']=final_tab['\\xa0Population 18 to 64 years']/final_tab[\"TotalPop\"]*100\n",
    "final_tab['\\xa0Population 65 years and over']=final_tab['\\xa0Population 65 years and over']/final_tab[\"TotalPop\"]*100\n",
    "final_tab['\\xa0Population with a hearing difficulty']=final_tab['\\xa0Population with a hearing difficulty']/final_tab[\"TotalPop\"]*100\n",
    "final_tab['\\xa0Population with a vision difficulty']=final_tab['\\xa0Population with a vision difficulty']/final_tab[\"TotalPop\"]*100\n",
    "final_tab['\\xa0Population 5 years and over with a cognitive difficulty']=final_tab['\\xa0Population 5 years and over with a cognitive difficulty']/final_tab[\"TotalPop\"]*100\n",
    "final_tab['\\xa0Population 5 years and over with an ambulatory difficulty']=final_tab['\\xa0Population 5 years and over with an ambulatory difficulty']/final_tab[\"TotalPop\"]*100"
   ]
  },
  {
   "cell_type": "code",
   "execution_count": 230,
   "metadata": {},
   "outputs": [],
   "source": [
    "final_tab['\\xa0Population 5 years and over with a self-care difficulty']=final_tab['\\xa0Population 5 years and over with a self-care difficulty']/final_tab[\"TotalPop\"]*100\n",
    "final_tab['\\xa0Population 18 years and over with an independent living difficulty']=final_tab['\\xa0Population 18 years and over with an independent living difficulty']/final_tab[\"TotalPop\"]*100\n",
    "final_tab['\\xa0Population with a disability']=final_tab['\\xa0Population with a disability']/final_tab[\"TotalPop\"]*100\n",
    "final_tab['population under 18 with disability']=final_tab['population under 18 with disability']/final_tab[\"TotalPop\"]*100\n",
    "final_tab['population between 18 to 64 with disability']=final_tab['population between 18 to 64 with disability']/final_tab[\"TotalPop\"]*100\n",
    "final_tab['population above 64 with disability']=final_tab['population above 64 with disability']/final_tab[\"TotalPop\"]*100"
   ]
  },
  {
   "cell_type": "code",
   "execution_count": 231,
   "metadata": {},
   "outputs": [
    {
     "data": {
      "text/html": [
       "<div>\n",
       "<style scoped>\n",
       "    .dataframe tbody tr th:only-of-type {\n",
       "        vertical-align: middle;\n",
       "    }\n",
       "\n",
       "    .dataframe tbody tr th {\n",
       "        vertical-align: top;\n",
       "    }\n",
       "\n",
       "    .dataframe thead th {\n",
       "        text-align: right;\n",
       "    }\n",
       "</style>\n",
       "<table border=\"1\" class=\"dataframe\">\n",
       "  <thead>\n",
       "    <tr style=\"text-align: right;\">\n",
       "      <th></th>\n",
       "      <th>TotalPop</th>\n",
       "      <th>Population under 18 years</th>\n",
       "      <th>Population 18 to 64 years</th>\n",
       "      <th>Population 65 years and over</th>\n",
       "      <th>Population with a hearing difficulty</th>\n",
       "      <th>Population with a vision difficulty</th>\n",
       "      <th>Population 5 years and over with a cognitive difficulty</th>\n",
       "      <th>Population 5 years and over with an ambulatory difficulty</th>\n",
       "      <th>Population 5 years and over with a self-care difficulty</th>\n",
       "      <th>Population 18 years and over with an independent living difficulty</th>\n",
       "      <th>Population with a disability</th>\n",
       "      <th>population under 18 with disability</th>\n",
       "      <th>population between 18 to 64 with disability</th>\n",
       "      <th>population above 64 with disability</th>\n",
       "      <th>HPSA_Shortage</th>\n",
       "      <th>NUM_LICENSED_BEDS</th>\n",
       "      <th>confirmed</th>\n",
       "      <th>deaths</th>\n",
       "      <th>recovered</th>\n",
       "      <th>active</th>\n",
       "    </tr>\n",
       "  </thead>\n",
       "  <tbody>\n",
       "    <tr>\n",
       "      <th>Abbeville</th>\n",
       "      <td>24788</td>\n",
       "      <td>20.832661</td>\n",
       "      <td>57.741649</td>\n",
       "      <td>19.985477</td>\n",
       "      <td>5.482492</td>\n",
       "      <td>4.082621</td>\n",
       "      <td>6.797644</td>\n",
       "      <td>11.675004</td>\n",
       "      <td>3.667097</td>\n",
       "      <td>7.713410</td>\n",
       "      <td>20.247701</td>\n",
       "      <td>1.545102</td>\n",
       "      <td>9.823302</td>\n",
       "      <td>8.879296</td>\n",
       "      <td>2.2000</td>\n",
       "      <td>25.0</td>\n",
       "      <td>34</td>\n",
       "      <td>0</td>\n",
       "      <td>0</td>\n",
       "      <td>34</td>\n",
       "    </tr>\n",
       "    <tr>\n",
       "      <th>Acadia</th>\n",
       "      <td>62607</td>\n",
       "      <td>26.398007</td>\n",
       "      <td>58.515821</td>\n",
       "      <td>13.565576</td>\n",
       "      <td>5.138403</td>\n",
       "      <td>5.021803</td>\n",
       "      <td>7.424090</td>\n",
       "      <td>10.720846</td>\n",
       "      <td>4.334979</td>\n",
       "      <td>6.713307</td>\n",
       "      <td>18.619324</td>\n",
       "      <td>2.196240</td>\n",
       "      <td>9.879087</td>\n",
       "      <td>6.543997</td>\n",
       "      <td>3.3900</td>\n",
       "      <td>170.0</td>\n",
       "      <td>152</td>\n",
       "      <td>11</td>\n",
       "      <td>0</td>\n",
       "      <td>141</td>\n",
       "    </tr>\n",
       "    <tr>\n",
       "      <th>Accomack</th>\n",
       "      <td>32840</td>\n",
       "      <td>20.953106</td>\n",
       "      <td>56.379415</td>\n",
       "      <td>21.425091</td>\n",
       "      <td>4.086480</td>\n",
       "      <td>2.719245</td>\n",
       "      <td>4.762485</td>\n",
       "      <td>7.356882</td>\n",
       "      <td>2.752741</td>\n",
       "      <td>4.658952</td>\n",
       "      <td>13.154689</td>\n",
       "      <td>0.691230</td>\n",
       "      <td>5.706456</td>\n",
       "      <td>6.757004</td>\n",
       "      <td>0.1200</td>\n",
       "      <td>52.0</td>\n",
       "      <td>524</td>\n",
       "      <td>7</td>\n",
       "      <td>0</td>\n",
       "      <td>517</td>\n",
       "    </tr>\n",
       "    <tr>\n",
       "      <th>Ada</th>\n",
       "      <td>435117</td>\n",
       "      <td>25.062225</td>\n",
       "      <td>62.198443</td>\n",
       "      <td>13.586690</td>\n",
       "      <td>3.408968</td>\n",
       "      <td>1.857661</td>\n",
       "      <td>4.225530</td>\n",
       "      <td>4.448459</td>\n",
       "      <td>2.080360</td>\n",
       "      <td>3.567087</td>\n",
       "      <td>10.245750</td>\n",
       "      <td>0.861378</td>\n",
       "      <td>5.197223</td>\n",
       "      <td>4.187150</td>\n",
       "      <td>2.4600</td>\n",
       "      <td>1351.0</td>\n",
       "      <td>739</td>\n",
       "      <td>21</td>\n",
       "      <td>0</td>\n",
       "      <td>718</td>\n",
       "    </tr>\n",
       "    <tr>\n",
       "      <th>Adair</th>\n",
       "      <td>74069</td>\n",
       "      <td>21.127597</td>\n",
       "      <td>61.854487</td>\n",
       "      <td>15.523363</td>\n",
       "      <td>5.129001</td>\n",
       "      <td>3.418434</td>\n",
       "      <td>5.642036</td>\n",
       "      <td>9.264335</td>\n",
       "      <td>3.311777</td>\n",
       "      <td>5.471925</td>\n",
       "      <td>16.202460</td>\n",
       "      <td>0.878910</td>\n",
       "      <td>8.720247</td>\n",
       "      <td>6.603302</td>\n",
       "      <td>12.8488</td>\n",
       "      <td>185.0</td>\n",
       "      <td>88</td>\n",
       "      <td>13</td>\n",
       "      <td>0</td>\n",
       "      <td>76</td>\n",
       "    </tr>\n",
       "  </tbody>\n",
       "</table>\n",
       "</div>"
      ],
      "text/plain": [
       "           TotalPop   Population under 18 years   Population 18 to 64 years  \\\n",
       "Abbeville     24788                   20.832661                   57.741649   \n",
       "Acadia        62607                   26.398007                   58.515821   \n",
       "Accomack      32840                   20.953106                   56.379415   \n",
       "Ada          435117                   25.062225                   62.198443   \n",
       "Adair         74069                   21.127597                   61.854487   \n",
       "\n",
       "            Population 65 years and over  \\\n",
       "Abbeville                      19.985477   \n",
       "Acadia                         13.565576   \n",
       "Accomack                       21.425091   \n",
       "Ada                            13.586690   \n",
       "Adair                          15.523363   \n",
       "\n",
       "            Population with a hearing difficulty  \\\n",
       "Abbeville                               5.482492   \n",
       "Acadia                                  5.138403   \n",
       "Accomack                                4.086480   \n",
       "Ada                                     3.408968   \n",
       "Adair                                   5.129001   \n",
       "\n",
       "            Population with a vision difficulty  \\\n",
       "Abbeville                              4.082621   \n",
       "Acadia                                 5.021803   \n",
       "Accomack                               2.719245   \n",
       "Ada                                    1.857661   \n",
       "Adair                                  3.418434   \n",
       "\n",
       "            Population 5 years and over with a cognitive difficulty  \\\n",
       "Abbeville                                           6.797644          \n",
       "Acadia                                              7.424090          \n",
       "Accomack                                            4.762485          \n",
       "Ada                                                 4.225530          \n",
       "Adair                                               5.642036          \n",
       "\n",
       "            Population 5 years and over with an ambulatory difficulty  \\\n",
       "Abbeville                                          11.675004            \n",
       "Acadia                                             10.720846            \n",
       "Accomack                                            7.356882            \n",
       "Ada                                                 4.448459            \n",
       "Adair                                               9.264335            \n",
       "\n",
       "            Population 5 years and over with a self-care difficulty  \\\n",
       "Abbeville                                           3.667097          \n",
       "Acadia                                              4.334979          \n",
       "Accomack                                            2.752741          \n",
       "Ada                                                 2.080360          \n",
       "Adair                                               3.311777          \n",
       "\n",
       "            Population 18 years and over with an independent living difficulty  \\\n",
       "Abbeville                                           7.713410                     \n",
       "Acadia                                              6.713307                     \n",
       "Accomack                                            4.658952                     \n",
       "Ada                                                 3.567087                     \n",
       "Adair                                               5.471925                     \n",
       "\n",
       "            Population with a disability  population under 18 with disability  \\\n",
       "Abbeville                      20.247701                             1.545102   \n",
       "Acadia                         18.619324                             2.196240   \n",
       "Accomack                       13.154689                             0.691230   \n",
       "Ada                            10.245750                             0.861378   \n",
       "Adair                          16.202460                             0.878910   \n",
       "\n",
       "           population between 18 to 64 with disability  \\\n",
       "Abbeville                                     9.823302   \n",
       "Acadia                                        9.879087   \n",
       "Accomack                                      5.706456   \n",
       "Ada                                           5.197223   \n",
       "Adair                                         8.720247   \n",
       "\n",
       "           population above 64 with disability  HPSA_Shortage  \\\n",
       "Abbeville                             8.879296         2.2000   \n",
       "Acadia                                6.543997         3.3900   \n",
       "Accomack                              6.757004         0.1200   \n",
       "Ada                                   4.187150         2.4600   \n",
       "Adair                                 6.603302        12.8488   \n",
       "\n",
       "           NUM_LICENSED_BEDS  confirmed  deaths  recovered  active  \n",
       "Abbeville               25.0         34       0          0      34  \n",
       "Acadia                 170.0        152      11          0     141  \n",
       "Accomack                52.0        524       7          0     517  \n",
       "Ada                   1351.0        739      21          0     718  \n",
       "Adair                  185.0         88      13          0      76  "
      ]
     },
     "execution_count": 231,
     "metadata": {},
     "output_type": "execute_result"
    }
   ],
   "source": [
    "final_tab.head()"
   ]
  },
  {
   "cell_type": "code",
   "execution_count": 232,
   "metadata": {},
   "outputs": [],
   "source": [
    "final_tab[\"NUM_LICENSED_BEDS\"]=(final_tab[\"NUM_LICENSED_BEDS\"]/final_tab[\"TotalPop\"])*100\n",
    "final_tab[\"percent of population affected by corona\"]=(final_tab[\"confirmed\"]/final_tab[\"TotalPop\"])*100\n",
    "final_tab[\"Mortality rate\"]=(final_tab[\"deaths\"]/final_tab[\"TotalPop\"])*100\n",
    "final_tab[\"Fatality rate\"]=(final_tab[\"deaths\"]/final_tab[\"confirmed\"])*100"
   ]
  },
  {
   "cell_type": "code",
   "execution_count": 233,
   "metadata": {},
   "outputs": [
    {
     "data": {
      "text/plain": [
       "Index(['TotalPop', ' Population under 18 years', ' Population 18 to 64 years',\n",
       "       ' Population 65 years and over',\n",
       "       ' Population with a hearing difficulty',\n",
       "       ' Population with a vision difficulty',\n",
       "       ' Population 5 years and over with a cognitive difficulty',\n",
       "       ' Population 5 years and over with an ambulatory difficulty',\n",
       "       ' Population 5 years and over with a self-care difficulty',\n",
       "       ' Population 18 years and over with an independent living difficulty',\n",
       "       ' Population with a disability', 'population under 18 with disability',\n",
       "       'population between 18 to 64 with disability',\n",
       "       'population above 64 with disability', 'HPSA_Shortage',\n",
       "       'NUM_LICENSED_BEDS', 'confirmed', 'deaths', 'recovered', 'active',\n",
       "       'percent of population affected by corona', 'Mortality rate',\n",
       "       'Fatality rate'],\n",
       "      dtype='object')"
      ]
     },
     "execution_count": 233,
     "metadata": {},
     "output_type": "execute_result"
    }
   ],
   "source": [
    "def impute_age(cols):\n",
    "    if pd.isnull(cols):\n",
    "        return 0\n",
    "    else:\n",
    "        return cols\n",
    "final_tab[\"Fatality rate\"]=final_tab[\"Fatality rate\"].apply(impute_age)\n",
    "final_tab.columns"
   ]
  },
  {
   "cell_type": "code",
   "execution_count": 234,
   "metadata": {},
   "outputs": [],
   "source": [
    "final_tab.drop([\"TotalPop\",\"confirmed\",\"deaths\",\"recovered\",\"active\"],axis=1,inplace=True)"
   ]
  },
  {
   "cell_type": "code",
   "execution_count": 235,
   "metadata": {},
   "outputs": [
    {
     "data": {
      "text/html": [
       "<div>\n",
       "<style scoped>\n",
       "    .dataframe tbody tr th:only-of-type {\n",
       "        vertical-align: middle;\n",
       "    }\n",
       "\n",
       "    .dataframe tbody tr th {\n",
       "        vertical-align: top;\n",
       "    }\n",
       "\n",
       "    .dataframe thead th {\n",
       "        text-align: right;\n",
       "    }\n",
       "</style>\n",
       "<table border=\"1\" class=\"dataframe\">\n",
       "  <thead>\n",
       "    <tr style=\"text-align: right;\">\n",
       "      <th></th>\n",
       "      <th>Population under 18 years</th>\n",
       "      <th>Population 18 to 64 years</th>\n",
       "      <th>Population 65 years and over</th>\n",
       "      <th>Population with a hearing difficulty</th>\n",
       "      <th>Population with a vision difficulty</th>\n",
       "      <th>Population 5 years and over with a cognitive difficulty</th>\n",
       "      <th>Population 5 years and over with an ambulatory difficulty</th>\n",
       "      <th>Population 5 years and over with a self-care difficulty</th>\n",
       "      <th>Population 18 years and over with an independent living difficulty</th>\n",
       "      <th>Population with a disability</th>\n",
       "      <th>population under 18 with disability</th>\n",
       "      <th>population between 18 to 64 with disability</th>\n",
       "      <th>population above 64 with disability</th>\n",
       "      <th>HPSA_Shortage</th>\n",
       "      <th>NUM_LICENSED_BEDS</th>\n",
       "      <th>percent of population affected by corona</th>\n",
       "      <th>Mortality rate</th>\n",
       "      <th>Fatality rate</th>\n",
       "    </tr>\n",
       "  </thead>\n",
       "  <tbody>\n",
       "    <tr>\n",
       "      <th>Abbeville</th>\n",
       "      <td>20.832661</td>\n",
       "      <td>57.741649</td>\n",
       "      <td>19.985477</td>\n",
       "      <td>5.482492</td>\n",
       "      <td>4.082621</td>\n",
       "      <td>6.797644</td>\n",
       "      <td>11.675004</td>\n",
       "      <td>3.667097</td>\n",
       "      <td>7.713410</td>\n",
       "      <td>20.247701</td>\n",
       "      <td>1.545102</td>\n",
       "      <td>9.823302</td>\n",
       "      <td>8.879296</td>\n",
       "      <td>2.2000</td>\n",
       "      <td>0.100855</td>\n",
       "      <td>0.137163</td>\n",
       "      <td>0.000000</td>\n",
       "      <td>0.000000</td>\n",
       "    </tr>\n",
       "    <tr>\n",
       "      <th>Acadia</th>\n",
       "      <td>26.398007</td>\n",
       "      <td>58.515821</td>\n",
       "      <td>13.565576</td>\n",
       "      <td>5.138403</td>\n",
       "      <td>5.021803</td>\n",
       "      <td>7.424090</td>\n",
       "      <td>10.720846</td>\n",
       "      <td>4.334979</td>\n",
       "      <td>6.713307</td>\n",
       "      <td>18.619324</td>\n",
       "      <td>2.196240</td>\n",
       "      <td>9.879087</td>\n",
       "      <td>6.543997</td>\n",
       "      <td>3.3900</td>\n",
       "      <td>0.271535</td>\n",
       "      <td>0.242784</td>\n",
       "      <td>0.017570</td>\n",
       "      <td>7.236842</td>\n",
       "    </tr>\n",
       "    <tr>\n",
       "      <th>Accomack</th>\n",
       "      <td>20.953106</td>\n",
       "      <td>56.379415</td>\n",
       "      <td>21.425091</td>\n",
       "      <td>4.086480</td>\n",
       "      <td>2.719245</td>\n",
       "      <td>4.762485</td>\n",
       "      <td>7.356882</td>\n",
       "      <td>2.752741</td>\n",
       "      <td>4.658952</td>\n",
       "      <td>13.154689</td>\n",
       "      <td>0.691230</td>\n",
       "      <td>5.706456</td>\n",
       "      <td>6.757004</td>\n",
       "      <td>0.1200</td>\n",
       "      <td>0.158343</td>\n",
       "      <td>1.595615</td>\n",
       "      <td>0.021315</td>\n",
       "      <td>1.335878</td>\n",
       "    </tr>\n",
       "    <tr>\n",
       "      <th>Ada</th>\n",
       "      <td>25.062225</td>\n",
       "      <td>62.198443</td>\n",
       "      <td>13.586690</td>\n",
       "      <td>3.408968</td>\n",
       "      <td>1.857661</td>\n",
       "      <td>4.225530</td>\n",
       "      <td>4.448459</td>\n",
       "      <td>2.080360</td>\n",
       "      <td>3.567087</td>\n",
       "      <td>10.245750</td>\n",
       "      <td>0.861378</td>\n",
       "      <td>5.197223</td>\n",
       "      <td>4.187150</td>\n",
       "      <td>2.4600</td>\n",
       "      <td>0.310491</td>\n",
       "      <td>0.169839</td>\n",
       "      <td>0.004826</td>\n",
       "      <td>2.841678</td>\n",
       "    </tr>\n",
       "    <tr>\n",
       "      <th>Adair</th>\n",
       "      <td>21.127597</td>\n",
       "      <td>61.854487</td>\n",
       "      <td>15.523363</td>\n",
       "      <td>5.129001</td>\n",
       "      <td>3.418434</td>\n",
       "      <td>5.642036</td>\n",
       "      <td>9.264335</td>\n",
       "      <td>3.311777</td>\n",
       "      <td>5.471925</td>\n",
       "      <td>16.202460</td>\n",
       "      <td>0.878910</td>\n",
       "      <td>8.720247</td>\n",
       "      <td>6.603302</td>\n",
       "      <td>12.8488</td>\n",
       "      <td>0.249767</td>\n",
       "      <td>0.118808</td>\n",
       "      <td>0.017551</td>\n",
       "      <td>14.772727</td>\n",
       "    </tr>\n",
       "  </tbody>\n",
       "</table>\n",
       "</div>"
      ],
      "text/plain": [
       "            Population under 18 years   Population 18 to 64 years  \\\n",
       "Abbeville                   20.832661                   57.741649   \n",
       "Acadia                      26.398007                   58.515821   \n",
       "Accomack                    20.953106                   56.379415   \n",
       "Ada                         25.062225                   62.198443   \n",
       "Adair                       21.127597                   61.854487   \n",
       "\n",
       "            Population 65 years and over  \\\n",
       "Abbeville                      19.985477   \n",
       "Acadia                         13.565576   \n",
       "Accomack                       21.425091   \n",
       "Ada                            13.586690   \n",
       "Adair                          15.523363   \n",
       "\n",
       "            Population with a hearing difficulty  \\\n",
       "Abbeville                               5.482492   \n",
       "Acadia                                  5.138403   \n",
       "Accomack                                4.086480   \n",
       "Ada                                     3.408968   \n",
       "Adair                                   5.129001   \n",
       "\n",
       "            Population with a vision difficulty  \\\n",
       "Abbeville                              4.082621   \n",
       "Acadia                                 5.021803   \n",
       "Accomack                               2.719245   \n",
       "Ada                                    1.857661   \n",
       "Adair                                  3.418434   \n",
       "\n",
       "            Population 5 years and over with a cognitive difficulty  \\\n",
       "Abbeville                                           6.797644          \n",
       "Acadia                                              7.424090          \n",
       "Accomack                                            4.762485          \n",
       "Ada                                                 4.225530          \n",
       "Adair                                               5.642036          \n",
       "\n",
       "            Population 5 years and over with an ambulatory difficulty  \\\n",
       "Abbeville                                          11.675004            \n",
       "Acadia                                             10.720846            \n",
       "Accomack                                            7.356882            \n",
       "Ada                                                 4.448459            \n",
       "Adair                                               9.264335            \n",
       "\n",
       "            Population 5 years and over with a self-care difficulty  \\\n",
       "Abbeville                                           3.667097          \n",
       "Acadia                                              4.334979          \n",
       "Accomack                                            2.752741          \n",
       "Ada                                                 2.080360          \n",
       "Adair                                               3.311777          \n",
       "\n",
       "            Population 18 years and over with an independent living difficulty  \\\n",
       "Abbeville                                           7.713410                     \n",
       "Acadia                                              6.713307                     \n",
       "Accomack                                            4.658952                     \n",
       "Ada                                                 3.567087                     \n",
       "Adair                                               5.471925                     \n",
       "\n",
       "            Population with a disability  population under 18 with disability  \\\n",
       "Abbeville                      20.247701                             1.545102   \n",
       "Acadia                         18.619324                             2.196240   \n",
       "Accomack                       13.154689                             0.691230   \n",
       "Ada                            10.245750                             0.861378   \n",
       "Adair                          16.202460                             0.878910   \n",
       "\n",
       "           population between 18 to 64 with disability  \\\n",
       "Abbeville                                     9.823302   \n",
       "Acadia                                        9.879087   \n",
       "Accomack                                      5.706456   \n",
       "Ada                                           5.197223   \n",
       "Adair                                         8.720247   \n",
       "\n",
       "           population above 64 with disability  HPSA_Shortage  \\\n",
       "Abbeville                             8.879296         2.2000   \n",
       "Acadia                                6.543997         3.3900   \n",
       "Accomack                              6.757004         0.1200   \n",
       "Ada                                   4.187150         2.4600   \n",
       "Adair                                 6.603302        12.8488   \n",
       "\n",
       "           NUM_LICENSED_BEDS  percent of population affected by corona  \\\n",
       "Abbeville           0.100855                                  0.137163   \n",
       "Acadia              0.271535                                  0.242784   \n",
       "Accomack            0.158343                                  1.595615   \n",
       "Ada                 0.310491                                  0.169839   \n",
       "Adair               0.249767                                  0.118808   \n",
       "\n",
       "           Mortality rate  Fatality rate  \n",
       "Abbeville        0.000000       0.000000  \n",
       "Acadia           0.017570       7.236842  \n",
       "Accomack         0.021315       1.335878  \n",
       "Ada              0.004826       2.841678  \n",
       "Adair            0.017551      14.772727  "
      ]
     },
     "execution_count": 235,
     "metadata": {},
     "output_type": "execute_result"
    }
   ],
   "source": [
    "final_tab.head()"
   ]
  },
  {
   "cell_type": "code",
   "execution_count": 236,
   "metadata": {},
   "outputs": [],
   "source": [
    "import seaborn as sns"
   ]
  },
  {
   "cell_type": "code",
   "execution_count": 237,
   "metadata": {},
   "outputs": [
    {
     "data": {
      "text/plain": [
       "<matplotlib.axes._subplots.AxesSubplot at 0x2b1bb4d56d8>"
      ]
     },
     "execution_count": 237,
     "metadata": {},
     "output_type": "execute_result"
    },
    {
     "data": {
      "image/png": "[encoded data removed]",
      "text/plain": [
       "<Figure size 432x288 with 2 Axes>"
      ]
     },
     "metadata": {
      "needs_background": "light"
     },
     "output_type": "display_data"
    }
   ],
   "source": [
    "sns.heatmap(final_tab.corr())"
   ]
  },
  {
   "cell_type": "code",
   "execution_count": 238,
   "metadata": {},
   "outputs": [],
   "source": [
    "Y_percentofcorona=final_tab[\"percent of population affected by corona\"]\n",
    "Y_mortality=final_tab[\"Mortality rate\"]\n",
    "Y_fatality=final_tab[\"Fatality rate\"]\n",
    "final_tab.drop([\"percent of population affected by corona\",\"Mortality rate\",\"Fatality rate\"],axis=1,inplace=True)\n"
   ]
  },
  {
   "cell_type": "code",
   "execution_count": 239,
   "metadata": {},
   "outputs": [],
   "source": [
    "#for mortality rate\n",
    "from sklearn.model_selection import train_test_split\n",
    "X_train, X_test, y_train, y_test = train_test_split(final_tab, Y_mortality, test_size=0.3, random_state=101)"
   ]
  },
  {
   "cell_type": "code",
   "execution_count": 240,
   "metadata": {},
   "outputs": [],
   "source": [
    "from sklearn.linear_model import LinearRegression"
   ]
  },
  {
   "cell_type": "code",
   "execution_count": 241,
   "metadata": {},
   "outputs": [],
   "source": [
    "lm = LinearRegression()"
   ]
  },
  {
   "cell_type": "code",
   "execution_count": 242,
   "metadata": {},
   "outputs": [
    {
     "data": {
      "text/plain": [
       "LinearRegression(copy_X=True, fit_intercept=True, n_jobs=None,\n",
       "         normalize=False)"
      ]
     },
     "execution_count": 242,
     "metadata": {},
     "output_type": "execute_result"
    }
   ],
   "source": [
    "lm.fit(X_train,y_train)"
   ]
  },
  {
   "cell_type": "code",
   "execution_count": 243,
   "metadata": {},
   "outputs": [],
   "source": [
    "predictions = lm.predict(X_test)"
   ]
  },
  {
   "cell_type": "code",
   "execution_count": 244,
   "metadata": {},
   "outputs": [],
   "source": [
    "from sklearn import metrics"
   ]
  },
  {
   "cell_type": "code",
   "execution_count": 245,
   "metadata": {},
   "outputs": [
    {
     "name": "stdout",
     "output_type": "stream",
     "text": [
      "MAE: 0.01107074312198765\n",
      "MSE: 0.0003648515551137591\n",
      "RMSE: 0.01910108779922649\n"
     ]
    }
   ],
   "source": [
    "print('MAE:', metrics.mean_absolute_error(y_test, predictions))\n",
    "print('MSE:', metrics.mean_squared_error(y_test, predictions))\n",
    "print('RMSE:', np.sqrt(metrics.mean_squared_error(y_test, predictions)))"
   ]
  },
  {
   "cell_type": "code",
   "execution_count": 246,
   "metadata": {},
   "outputs": [],
   "source": [
    "import matplotlib.pyplot as plt\n",
    "%matplotlib inline"
   ]
  },
  {
   "cell_type": "code",
   "execution_count": 247,
   "metadata": {},
   "outputs": [
    {
     "name": "stdout",
     "output_type": "stream",
     "text": [
      "Feature: 0, Score: -0.00076\n",
      "Feature: 1, Score: 0.00015\n",
      "Feature: 2, Score: 0.00002\n",
      "Feature: 3, Score: -0.00435\n",
      "Feature: 4, Score: 0.00284\n",
      "Feature: 5, Score: -0.00059\n",
      "Feature: 6, Score: 0.00140\n",
      "Feature: 7, Score: 0.00008\n",
      "Feature: 8, Score: 0.00213\n",
      "Feature: 9, Score: -0.00030\n",
      "Feature: 10, Score: 0.00240\n",
      "Feature: 11, Score: -0.00191\n",
      "Feature: 12, Score: -0.00078\n",
      "Feature: 13, Score: -0.00000\n",
      "Feature: 14, Score: -0.00125\n"
     ]
    },
    {
     "data": {
      "image/png": "[encoded data removed]",
      "text/plain": [
       "<Figure size 432x288 with 1 Axes>"
      ]
     },
     "metadata": {
      "needs_background": "light"
     },
     "output_type": "display_data"
    }
   ],
   "source": [
    "importance = lm.coef_\n",
    "# summarize feature importance\n",
    "for i,v in enumerate(importance):\n",
    "    print('Feature: %0d, Score: %.5f' % (i,v))\n",
    "# plot feature importance\n",
    "plt.bar([x for x in range(len(importance))], importance)\n",
    "plt.show()"
   ]
  },
  {
   "cell_type": "code",
   "execution_count": 248,
   "metadata": {},
   "outputs": [
    {
     "name": "stdout",
     "output_type": "stream",
     "text": [
      "MAE: 0.22116434130282586\n",
      "MSE: 0.17648224025833456\n",
      "RMSE: 0.42009789366091155\n"
     ]
    }
   ],
   "source": [
    "#model for percentage of corona affected people\n",
    "X_train, X_test, y_train, y_test = train_test_split(final_tab, Y_percentofcorona, test_size=0.3, random_state=101)\n",
    "lm.fit(X_train,y_train)\n",
    "predictions = lm.predict(X_test)\n",
    "print('MAE:', metrics.mean_absolute_error(y_test, predictions))\n",
    "print('MSE:', metrics.mean_squared_error(y_test, predictions))\n",
    "print('RMSE:', np.sqrt(metrics.mean_squared_error(y_test, predictions)))"
   ]
  },
  {
   "cell_type": "code",
   "execution_count": 249,
   "metadata": {},
   "outputs": [
    {
     "name": "stdout",
     "output_type": "stream",
     "text": [
      "Feature: 0, Score: -0.00139\n",
      "Feature: 1, Score: 0.01605\n",
      "Feature: 2, Score: -0.01473\n",
      "Feature: 3, Score: -0.18093\n",
      "Feature: 4, Score: 0.08043\n",
      "Feature: 5, Score: -0.03314\n",
      "Feature: 6, Score: -0.10803\n",
      "Feature: 7, Score: 0.04772\n",
      "Feature: 8, Score: -0.00041\n",
      "Feature: 9, Score: 0.05954\n",
      "Feature: 10, Score: -0.07137\n",
      "Feature: 11, Score: 0.02010\n",
      "Feature: 12, Score: 0.11080\n",
      "Feature: 13, Score: -0.00002\n",
      "Feature: 14, Score: -0.00416\n"
     ]
    },
    {
     "data": {
      "image/png": "[encoded data removed]",
      "text/plain": [
       "<Figure size 432x288 with 1 Axes>"
      ]
     },
     "metadata": {
      "needs_background": "light"
     },
     "output_type": "display_data"
    }
   ],
   "source": [
    "importance = lm.coef_\n",
    "# summarize feature importance\n",
    "for i,v in enumerate(importance):\n",
    "    print('Feature: %0d, Score: %.5f' % (i,v))\n",
    "# plot feature importance\n",
    "plt.bar([x for x in range(len(importance))], importance)\n",
    "plt.show()"
   ]
  },
  {
   "cell_type": "code",
   "execution_count": 250,
   "metadata": {},
   "outputs": [
    {
     "name": "stdout",
     "output_type": "stream",
     "text": [
      "MAE: 3.679139088209969\n",
      "MSE: 45.34918131671104\n",
      "RMSE: 6.734180077538099\n"
     ]
    }
   ],
   "source": [
    "#model for percentage of corona affected people\n",
    "X_train, X_test, y_train, y_test = train_test_split(final_tab, Y_fatality, test_size=0.3, random_state=101)\n",
    "lm.fit(X_train,y_train)\n",
    "predictions = lm.predict(X_test)\n",
    "print('MAE:', metrics.mean_absolute_error(y_test, predictions))\n",
    "print('MSE:', metrics.mean_squared_error(y_test, predictions))\n",
    "print('RMSE:', np.sqrt(metrics.mean_squared_error(y_test, predictions)))"
   ]
  },
  {
   "cell_type": "code",
   "execution_count": 251,
   "metadata": {},
   "outputs": [
    {
     "name": "stdout",
     "output_type": "stream",
     "text": [
      "Feature: 0, Score: 0.01269\n",
      "Feature: 1, Score: 0.09949\n",
      "Feature: 2, Score: 0.17154\n",
      "Feature: 3, Score: -0.58742\n",
      "Feature: 4, Score: 0.31803\n",
      "Feature: 5, Score: -0.28496\n",
      "Feature: 6, Score: 0.01257\n",
      "Feature: 7, Score: -0.41443\n",
      "Feature: 8, Score: 0.60214\n",
      "Feature: 9, Score: 0.47727\n",
      "Feature: 10, Score: 1.50702\n",
      "Feature: 11, Score: -0.28705\n",
      "Feature: 12, Score: -0.74271\n",
      "Feature: 13, Score: -0.00015\n",
      "Feature: 14, Score: -0.97004\n"
     ]
    },
    {
     "data": {
      "image/png": "[encoded data removed]",
      "text/plain": [
       "<Figure size 432x288 with 1 Axes>"
      ]
     },
     "metadata": {
      "needs_background": "light"
     },
     "output_type": "display_data"
    }
   ],
   "source": [
    "importance = lm.coef_\n",
    "# summarize feature importance\n",
    "for i,v in enumerate(importance):\n",
    "    print('Feature: %0d, Score: %.5f' % (i,v))\n",
    "# plot feature importance\n",
    "plt.bar([x for x in range(len(importance))], importance)\n",
    "plt.show()"
   ]
  },
  {
   "cell_type": "markdown",
   "metadata": {},
   "source": [
    "# Running independent model for different disability  "
   ]
  },
  {
   "cell_type": "code",
   "execution_count": 254,
   "metadata": {},
   "outputs": [
    {
     "data": {
      "text/plain": [
       "['\\xa0Population under 18 years',\n",
       " '\\xa0Population 18 to 64 years',\n",
       " '\\xa0Population 65 years and over',\n",
       " '\\xa0Population with a hearing difficulty',\n",
       " '\\xa0Population with a vision difficulty',\n",
       " '\\xa0Population 5 years and over with a cognitive difficulty',\n",
       " '\\xa0Population 5 years and over with an ambulatory difficulty',\n",
       " '\\xa0Population 5 years and over with a self-care difficulty',\n",
       " '\\xa0Population 18 years and over with an independent living difficulty',\n",
       " '\\xa0Population with a disability',\n",
       " 'population under 18 with disability',\n",
       " 'population between 18 to 64 with disability',\n",
       " 'population above 64 with disability',\n",
       " 'HPSA_Shortage',\n",
       " 'NUM_LICENSED_BEDS']"
      ]
     },
     "execution_count": 254,
     "metadata": {},
     "output_type": "execute_result"
    }
   ],
   "source": [
    "list(final_tab.columns)"
   ]
  },
  {
   "cell_type": "code",
   "execution_count": 255,
   "metadata": {},
   "outputs": [],
   "source": [
    "dis_feat= final_tab[['\\xa0Population with a hearing difficulty','\\xa0Population with a vision difficulty','\\xa0Population 5 years and over with a cognitive difficulty',\n",
    " '\\xa0Population 5 years and over with an ambulatory difficulty',\n",
    " '\\xa0Population 5 years and over with a self-care difficulty',\n",
    " '\\xa0Population 18 years and over with an independent living difficulty']]"
   ]
  },
  {
   "cell_type": "code",
   "execution_count": 263,
   "metadata": {},
   "outputs": [
    {
     "data": {
      "text/html": [
       "<div>\n",
       "<style scoped>\n",
       "    .dataframe tbody tr th:only-of-type {\n",
       "        vertical-align: middle;\n",
       "    }\n",
       "\n",
       "    .dataframe tbody tr th {\n",
       "        vertical-align: top;\n",
       "    }\n",
       "\n",
       "    .dataframe thead th {\n",
       "        text-align: right;\n",
       "    }\n",
       "</style>\n",
       "<table border=\"1\" class=\"dataframe\">\n",
       "  <thead>\n",
       "    <tr style=\"text-align: right;\">\n",
       "      <th></th>\n",
       "      <th>Population with a hearing difficulty</th>\n",
       "      <th>Population with a vision difficulty</th>\n",
       "      <th>Population 5 years and over with a cognitive difficulty</th>\n",
       "      <th>Population 5 years and over with an ambulatory difficulty</th>\n",
       "      <th>Population 5 years and over with a self-care difficulty</th>\n",
       "      <th>Population 18 years and over with an independent living difficulty</th>\n",
       "    </tr>\n",
       "  </thead>\n",
       "  <tbody>\n",
       "    <tr>\n",
       "      <th>Abbeville</th>\n",
       "      <td>5.482492</td>\n",
       "      <td>4.082621</td>\n",
       "      <td>6.797644</td>\n",
       "      <td>11.675004</td>\n",
       "      <td>3.667097</td>\n",
       "      <td>7.713410</td>\n",
       "    </tr>\n",
       "    <tr>\n",
       "      <th>Acadia</th>\n",
       "      <td>5.138403</td>\n",
       "      <td>5.021803</td>\n",
       "      <td>7.424090</td>\n",
       "      <td>10.720846</td>\n",
       "      <td>4.334979</td>\n",
       "      <td>6.713307</td>\n",
       "    </tr>\n",
       "    <tr>\n",
       "      <th>Accomack</th>\n",
       "      <td>4.086480</td>\n",
       "      <td>2.719245</td>\n",
       "      <td>4.762485</td>\n",
       "      <td>7.356882</td>\n",
       "      <td>2.752741</td>\n",
       "      <td>4.658952</td>\n",
       "    </tr>\n",
       "    <tr>\n",
       "      <th>Ada</th>\n",
       "      <td>3.408968</td>\n",
       "      <td>1.857661</td>\n",
       "      <td>4.225530</td>\n",
       "      <td>4.448459</td>\n",
       "      <td>2.080360</td>\n",
       "      <td>3.567087</td>\n",
       "    </tr>\n",
       "    <tr>\n",
       "      <th>Adair</th>\n",
       "      <td>5.129001</td>\n",
       "      <td>3.418434</td>\n",
       "      <td>5.642036</td>\n",
       "      <td>9.264335</td>\n",
       "      <td>3.311777</td>\n",
       "      <td>5.471925</td>\n",
       "    </tr>\n",
       "  </tbody>\n",
       "</table>\n",
       "</div>"
      ],
      "text/plain": [
       "            Population with a hearing difficulty  \\\n",
       "Abbeville                               5.482492   \n",
       "Acadia                                  5.138403   \n",
       "Accomack                                4.086480   \n",
       "Ada                                     3.408968   \n",
       "Adair                                   5.129001   \n",
       "\n",
       "            Population with a vision difficulty  \\\n",
       "Abbeville                              4.082621   \n",
       "Acadia                                 5.021803   \n",
       "Accomack                               2.719245   \n",
       "Ada                                    1.857661   \n",
       "Adair                                  3.418434   \n",
       "\n",
       "            Population 5 years and over with a cognitive difficulty  \\\n",
       "Abbeville                                           6.797644          \n",
       "Acadia                                              7.424090          \n",
       "Accomack                                            4.762485          \n",
       "Ada                                                 4.225530          \n",
       "Adair                                               5.642036          \n",
       "\n",
       "            Population 5 years and over with an ambulatory difficulty  \\\n",
       "Abbeville                                          11.675004            \n",
       "Acadia                                             10.720846            \n",
       "Accomack                                            7.356882            \n",
       "Ada                                                 4.448459            \n",
       "Adair                                               9.264335            \n",
       "\n",
       "            Population 5 years and over with a self-care difficulty  \\\n",
       "Abbeville                                           3.667097          \n",
       "Acadia                                              4.334979          \n",
       "Accomack                                            2.752741          \n",
       "Ada                                                 2.080360          \n",
       "Adair                                               3.311777          \n",
       "\n",
       "            Population 18 years and over with an independent living difficulty  \n",
       "Abbeville                                           7.713410                    \n",
       "Acadia                                              6.713307                    \n",
       "Accomack                                            4.658952                    \n",
       "Ada                                                 3.567087                    \n",
       "Adair                                               5.471925                    "
      ]
     },
     "execution_count": 263,
     "metadata": {},
     "output_type": "execute_result"
    }
   ],
   "source": [
    "dis_feat.head()"
   ]
  },
  {
   "cell_type": "markdown",
   "metadata": {},
   "source": [
    "Number of CORONA cases"
   ]
  },
  {
   "cell_type": "code",
   "execution_count": 257,
   "metadata": {},
   "outputs": [
    {
     "name": "stdout",
     "output_type": "stream",
     "text": [
      "Feature: 0, Score: -0.10562\n",
      "Feature: 1, Score: 0.08351\n",
      "Feature: 2, Score: 0.00768\n",
      "Feature: 3, Score: -0.02128\n",
      "Feature: 4, Score: 0.00681\n",
      "Feature: 5, Score: 0.01983\n"
     ]
    },
    {
     "data": {
      "image/png": "[encoded data removed]",
      "text/plain": [
       "<Figure size 432x288 with 1 Axes>"
      ]
     },
     "metadata": {
      "needs_background": "light"
     },
     "output_type": "display_data"
    }
   ],
   "source": [
    "X_train, X_test, y_train, y_test = train_test_split(dis_feat, Y_percentofcorona, test_size=0.3, random_state=101)\n",
    "lm.fit(X_train,y_train)\n",
    "importance = lm.coef_\n",
    "# summarize feature importance\n",
    "for i,v in enumerate(importance):\n",
    "    print('Feature: %0d, Score: %.5f' % (i,v))\n",
    "# plot feature importance\n",
    "plt.bar([x for x in range(len(importance))], importance)\n",
    "plt.show()"
   ]
  },
  {
   "cell_type": "markdown",
   "metadata": {},
   "source": [
    "Mortality Rate"
   ]
  },
  {
   "cell_type": "code",
   "execution_count": 259,
   "metadata": {},
   "outputs": [
    {
     "name": "stdout",
     "output_type": "stream",
     "text": [
      "Feature: 0, Score: -0.00463\n",
      "Feature: 1, Score: 0.00178\n",
      "Feature: 2, Score: -0.00122\n",
      "Feature: 3, Score: -0.00008\n",
      "Feature: 4, Score: 0.00080\n",
      "Feature: 5, Score: 0.00213\n"
     ]
    },
    {
     "data": {
      "image/png": "[encoded data removed]",
      "text/plain": [
       "<Figure size 432x288 with 1 Axes>"
      ]
     },
     "metadata": {
      "needs_background": "light"
     },
     "output_type": "display_data"
    }
   ],
   "source": [
    "X_train, X_test, y_train, y_test = train_test_split(dis_feat, Y_mortality, test_size=0.3, random_state=101)\n",
    "lm.fit(X_train,y_train)\n",
    "importance = lm.coef_\n",
    "# summarize feature importance\n",
    "for i,v in enumerate(importance):\n",
    "    print('Feature: %0d, Score: %.5f' % (i,v))\n",
    "# plot feature importance\n",
    "plt.bar([x for x in range(len(importance))], importance)\n",
    "plt.show()"
   ]
  },
  {
   "cell_type": "markdown",
   "metadata": {},
   "source": [
    "Fatality Rate"
   ]
  },
  {
   "cell_type": "code",
   "execution_count": 261,
   "metadata": {},
   "outputs": [
    {
     "name": "stdout",
     "output_type": "stream",
     "text": [
      "Feature: 0, Score: -0.60098\n",
      "Feature: 1, Score: 0.27750\n",
      "Feature: 2, Score: 0.30794\n",
      "Feature: 3, Score: -0.03794\n",
      "Feature: 4, Score: -0.52651\n",
      "Feature: 5, Score: 0.52876\n"
     ]
    },
    {
     "data": {
      "image/png": "[encoded data removed]",
      "text/plain": [
       "<Figure size 432x288 with 1 Axes>"
      ]
     },
     "metadata": {
      "needs_background": "light"
     },
     "output_type": "display_data"
    }
   ],
   "source": [
    "X_train, X_test, y_train, y_test = train_test_split(dis_feat, Y_fatality, test_size=0.3, random_state=101)\n",
    "lm.fit(X_train,y_train)\n",
    "importance = lm.coef_\n",
    "# summarize feature importance\n",
    "for i,v in enumerate(importance):\n",
    "    print('Feature: %0d, Score: %.5f' % (i,v))\n",
    "# plot feature importance\n",
    "plt.bar([x for x in range(len(importance))], importance)\n",
    "plt.show()"
   ]
  },
  {
   "cell_type": "markdown",
   "metadata": {},
   "source": [
    "# Model on the basis of disability by age"
   ]
  },
  {
   "cell_type": "code",
   "execution_count": 262,
   "metadata": {},
   "outputs": [],
   "source": [
    "dis_age=final_tab[['population under 18 with disability',\n",
    " 'population between 18 to 64 with disability',\n",
    " 'population above 64 with disability']]"
   ]
  },
  {
   "cell_type": "markdown",
   "metadata": {},
   "source": [
    "Number of Corona Cases"
   ]
  },
  {
   "cell_type": "code",
   "execution_count": 264,
   "metadata": {},
   "outputs": [
    {
     "name": "stdout",
     "output_type": "stream",
     "text": [
      "Feature: 0, Score: -0.04199\n",
      "Feature: 1, Score: 0.01454\n",
      "Feature: 2, Score: -0.04682\n"
     ]
    },
    {
     "data": {
      "image/png": "[encoded data removed]",
      "text/plain": [
       "<Figure size 432x288 with 1 Axes>"
      ]
     },
     "metadata": {
      "needs_background": "light"
     },
     "output_type": "display_data"
    }
   ],
   "source": [
    "X_train, X_test, y_train, y_test = train_test_split(dis_age, Y_percentofcorona, test_size=0.3, random_state=101)\n",
    "lm.fit(X_train,y_train)\n",
    "importance = lm.coef_\n",
    "# summarize feature importance\n",
    "for i,v in enumerate(importance):\n",
    "    print('Feature: %0d, Score: %.5f' % (i,v))\n",
    "# plot feature importance\n",
    "plt.bar([x for x in range(len(importance))], importance)\n",
    "plt.show()"
   ]
  },
  {
   "cell_type": "markdown",
   "metadata": {},
   "source": [
    "Fatality Rate"
   ]
  },
  {
   "cell_type": "code",
   "execution_count": 268,
   "metadata": {},
   "outputs": [
    {
     "name": "stdout",
     "output_type": "stream",
     "text": [
      "Feature: 0, Score: 1.52825\n",
      "Feature: 1, Score: 0.20158\n",
      "Feature: 2, Score: -0.31233\n"
     ]
    },
    {
     "data": {
      "image/png": "[encoded data removed]",
      "text/plain": [
       "<Figure size 432x288 with 1 Axes>"
      ]
     },
     "metadata": {
      "needs_background": "light"
     },
     "output_type": "display_data"
    }
   ],
   "source": [
    "X_train, X_test, y_train, y_test = train_test_split(dis_age, Y_fatality, test_size=0.3, random_state=101)\n",
    "lm.fit(X_train,y_train)\n",
    "importance = lm.coef_\n",
    "\n",
    "for i,v in enumerate(importance):\n",
    "    print('Feature: %0d, Score: %.5f' % (i,v))\n",
    "plt.bar([x for x in range(len(importance))], importance)\n",
    "plt.show()"
   ]
  },
  {
   "cell_type": "markdown",
   "metadata": {},
   "source": [
    "Mortality Rate"
   ]
  },
  {
   "cell_type": "code",
   "execution_count": 270,
   "metadata": {},
   "outputs": [
    {
     "name": "stdout",
     "output_type": "stream",
     "text": [
      "Feature: 0, Score: 0.00078\n",
      "Feature: 1, Score: -0.00015\n",
      "Feature: 2, Score: -0.00166\n"
     ]
    },
    {
     "data": {
      "image/png": "[encoded data removed]",
      "text/plain": [
       "<Figure size 432x288 with 1 Axes>"
      ]
     },
     "metadata": {
      "needs_background": "light"
     },
     "output_type": "display_data"
    }
   ],
   "source": [
    "X_train, X_test, y_train, y_test = train_test_split(dis_age, Y_mortality, test_size=0.3, random_state=101)\n",
    "lm.fit(X_train,y_train)\n",
    "importance = lm.coef_\n",
    "for i,v in enumerate(importance):\n",
    "    print('Feature: %0d, Score: %.5f' % (i,v))\n",
    "plt.bar([x for x in range(len(importance))], importance)\n",
    "plt.show()\n"
   ]
  },
  {
   "cell_type": "markdown",
   "metadata": {},
   "source": [
    "# Model on the basis of Health Resources"
   ]
  },
  {
   "cell_type": "code",
   "execution_count": 283,
   "metadata": {},
   "outputs": [],
   "source": [
    "X_bed=pd.read_csv(\"Definitive_Healthcare__USA_Hospital_Beds.csv\")\n",
    "X_bed=bed.groupby(\"COUNTY_NAME\").sum()\n",
    "X_bed=X_bed[['NUM_STAFFED_BEDS','NUM_ICU_BEDS','AVG_VENTILATOR_USAGE']]"
   ]
  },
  {
   "cell_type": "code",
   "execution_count": 290,
   "metadata": {},
   "outputs": [],
   "source": [
    "X_bed=pd.concat([X_bed,pop,disability,pract,death],axis=1,join=\"inner\")"
   ]
  },
  {
   "cell_type": "code",
   "execution_count": 291,
   "metadata": {},
   "outputs": [
    {
     "data": {
      "text/html": [
       "<div>\n",
       "<style scoped>\n",
       "    .dataframe tbody tr th:only-of-type {\n",
       "        vertical-align: middle;\n",
       "    }\n",
       "\n",
       "    .dataframe tbody tr th {\n",
       "        vertical-align: top;\n",
       "    }\n",
       "\n",
       "    .dataframe thead th {\n",
       "        text-align: right;\n",
       "    }\n",
       "</style>\n",
       "<table border=\"1\" class=\"dataframe\">\n",
       "  <thead>\n",
       "    <tr style=\"text-align: right;\">\n",
       "      <th></th>\n",
       "      <th>NUM_STAFFED_BEDS</th>\n",
       "      <th>NUM_ICU_BEDS</th>\n",
       "      <th>AVG_VENTILATOR_USAGE</th>\n",
       "      <th>TotalPop</th>\n",
       "      <th>CountyId</th>\n",
       "      <th>Population under 18 years</th>\n",
       "      <th>Population 18 to 64 years</th>\n",
       "      <th>Population 65 years and over</th>\n",
       "      <th>Population with a hearing difficulty</th>\n",
       "      <th>Population with a vision difficulty</th>\n",
       "      <th>...</th>\n",
       "      <th>Population 18 years and over with an independent living difficulty</th>\n",
       "      <th>Population with a disability</th>\n",
       "      <th>population under 18 with disability</th>\n",
       "      <th>population between 18 to 64 with disability</th>\n",
       "      <th>population above 64 with disability</th>\n",
       "      <th>HPSA_Shortage</th>\n",
       "      <th>confirmed</th>\n",
       "      <th>deaths</th>\n",
       "      <th>recovered</th>\n",
       "      <th>active</th>\n",
       "    </tr>\n",
       "  </thead>\n",
       "  <tbody>\n",
       "    <tr>\n",
       "      <th>Abbeville</th>\n",
       "      <td>0.100855</td>\n",
       "      <td>0.024205</td>\n",
       "      <td>0.008068</td>\n",
       "      <td>24788</td>\n",
       "      <td>45001</td>\n",
       "      <td>5164</td>\n",
       "      <td>14313</td>\n",
       "      <td>4954</td>\n",
       "      <td>1359</td>\n",
       "      <td>1012</td>\n",
       "      <td>...</td>\n",
       "      <td>1912</td>\n",
       "      <td>5019</td>\n",
       "      <td>383</td>\n",
       "      <td>2435</td>\n",
       "      <td>2201</td>\n",
       "      <td>2.2000</td>\n",
       "      <td>34</td>\n",
       "      <td>0</td>\n",
       "      <td>0</td>\n",
       "      <td>34</td>\n",
       "    </tr>\n",
       "    <tr>\n",
       "      <th>Acadia</th>\n",
       "      <td>0.230006</td>\n",
       "      <td>0.011181</td>\n",
       "      <td>0.004792</td>\n",
       "      <td>62607</td>\n",
       "      <td>22001</td>\n",
       "      <td>16527</td>\n",
       "      <td>36635</td>\n",
       "      <td>8493</td>\n",
       "      <td>3217</td>\n",
       "      <td>3144</td>\n",
       "      <td>...</td>\n",
       "      <td>4203</td>\n",
       "      <td>11657</td>\n",
       "      <td>1375</td>\n",
       "      <td>6185</td>\n",
       "      <td>4097</td>\n",
       "      <td>3.3900</td>\n",
       "      <td>152</td>\n",
       "      <td>11</td>\n",
       "      <td>0</td>\n",
       "      <td>141</td>\n",
       "    </tr>\n",
       "    <tr>\n",
       "      <th>Accomack</th>\n",
       "      <td>0.140073</td>\n",
       "      <td>0.030451</td>\n",
       "      <td>0.009135</td>\n",
       "      <td>32840</td>\n",
       "      <td>51001</td>\n",
       "      <td>6881</td>\n",
       "      <td>18515</td>\n",
       "      <td>7036</td>\n",
       "      <td>1342</td>\n",
       "      <td>893</td>\n",
       "      <td>...</td>\n",
       "      <td>1530</td>\n",
       "      <td>4320</td>\n",
       "      <td>227</td>\n",
       "      <td>1874</td>\n",
       "      <td>2219</td>\n",
       "      <td>0.1200</td>\n",
       "      <td>524</td>\n",
       "      <td>7</td>\n",
       "      <td>0</td>\n",
       "      <td>517</td>\n",
       "    </tr>\n",
       "    <tr>\n",
       "      <th>Ada</th>\n",
       "      <td>0.284981</td>\n",
       "      <td>0.022293</td>\n",
       "      <td>0.005516</td>\n",
       "      <td>435117</td>\n",
       "      <td>16001</td>\n",
       "      <td>109050</td>\n",
       "      <td>270636</td>\n",
       "      <td>59118</td>\n",
       "      <td>14833</td>\n",
       "      <td>8083</td>\n",
       "      <td>...</td>\n",
       "      <td>15521</td>\n",
       "      <td>44581</td>\n",
       "      <td>3748</td>\n",
       "      <td>22614</td>\n",
       "      <td>18219</td>\n",
       "      <td>2.4600</td>\n",
       "      <td>739</td>\n",
       "      <td>21</td>\n",
       "      <td>0</td>\n",
       "      <td>718</td>\n",
       "    </tr>\n",
       "    <tr>\n",
       "      <th>Adair</th>\n",
       "      <td>0.143110</td>\n",
       "      <td>0.025652</td>\n",
       "      <td>0.004050</td>\n",
       "      <td>74069</td>\n",
       "      <td>109004</td>\n",
       "      <td>15649</td>\n",
       "      <td>45815</td>\n",
       "      <td>11498</td>\n",
       "      <td>3799</td>\n",
       "      <td>2532</td>\n",
       "      <td>...</td>\n",
       "      <td>4053</td>\n",
       "      <td>12001</td>\n",
       "      <td>651</td>\n",
       "      <td>6459</td>\n",
       "      <td>4891</td>\n",
       "      <td>12.8488</td>\n",
       "      <td>88</td>\n",
       "      <td>13</td>\n",
       "      <td>0</td>\n",
       "      <td>76</td>\n",
       "    </tr>\n",
       "  </tbody>\n",
       "</table>\n",
       "<p>5 rows × 23 columns</p>\n",
       "</div>"
      ],
      "text/plain": [
       "           NUM_STAFFED_BEDS  NUM_ICU_BEDS  AVG_VENTILATOR_USAGE  TotalPop  \\\n",
       "Abbeville          0.100855      0.024205              0.008068     24788   \n",
       "Acadia             0.230006      0.011181              0.004792     62607   \n",
       "Accomack           0.140073      0.030451              0.009135     32840   \n",
       "Ada                0.284981      0.022293              0.005516    435117   \n",
       "Adair              0.143110      0.025652              0.004050     74069   \n",
       "\n",
       "           CountyId   Population under 18 years   Population 18 to 64 years  \\\n",
       "Abbeville     45001                        5164                       14313   \n",
       "Acadia        22001                       16527                       36635   \n",
       "Accomack      51001                        6881                       18515   \n",
       "Ada           16001                      109050                      270636   \n",
       "Adair        109004                       15649                       45815   \n",
       "\n",
       "            Population 65 years and over  \\\n",
       "Abbeville                           4954   \n",
       "Acadia                              8493   \n",
       "Accomack                            7036   \n",
       "Ada                                59118   \n",
       "Adair                              11498   \n",
       "\n",
       "            Population with a hearing difficulty  \\\n",
       "Abbeville                                   1359   \n",
       "Acadia                                      3217   \n",
       "Accomack                                    1342   \n",
       "Ada                                        14833   \n",
       "Adair                                       3799   \n",
       "\n",
       "            Population with a vision difficulty   ...    \\\n",
       "Abbeville                                  1012   ...     \n",
       "Acadia                                     3144   ...     \n",
       "Accomack                                    893   ...     \n",
       "Ada                                        8083   ...     \n",
       "Adair                                      2532   ...     \n",
       "\n",
       "            Population 18 years and over with an independent living difficulty  \\\n",
       "Abbeville                                               1912                     \n",
       "Acadia                                                  4203                     \n",
       "Accomack                                                1530                     \n",
       "Ada                                                    15521                     \n",
       "Adair                                                   4053                     \n",
       "\n",
       "            Population with a disability  population under 18 with disability  \\\n",
       "Abbeville                           5019                                  383   \n",
       "Acadia                             11657                                 1375   \n",
       "Accomack                            4320                                  227   \n",
       "Ada                                44581                                 3748   \n",
       "Adair                              12001                                  651   \n",
       "\n",
       "           population between 18 to 64 with disability  \\\n",
       "Abbeville                                         2435   \n",
       "Acadia                                            6185   \n",
       "Accomack                                          1874   \n",
       "Ada                                              22614   \n",
       "Adair                                             6459   \n",
       "\n",
       "           population above 64 with disability  HPSA_Shortage  confirmed  \\\n",
       "Abbeville                                 2201         2.2000         34   \n",
       "Acadia                                    4097         3.3900        152   \n",
       "Accomack                                  2219         0.1200        524   \n",
       "Ada                                      18219         2.4600        739   \n",
       "Adair                                     4891        12.8488         88   \n",
       "\n",
       "           deaths  recovered  active  \n",
       "Abbeville       0          0      34  \n",
       "Acadia         11          0     141  \n",
       "Accomack        7          0     517  \n",
       "Ada            21          0     718  \n",
       "Adair          13          0      76  \n",
       "\n",
       "[5 rows x 23 columns]"
      ]
     },
     "execution_count": 291,
     "metadata": {},
     "output_type": "execute_result"
    }
   ],
   "source": [
    "X_bed.head()"
   ]
  },
  {
   "cell_type": "code",
   "execution_count": 292,
   "metadata": {},
   "outputs": [],
   "source": [
    "X_bed[\"NUM_STAFFED_BEDS\"]=X_bed[\"NUM_STAFFED_BEDS\"]/X_bed[\"TotalPop\"]*100\n",
    "X_bed[\"NUM_ICU_BEDS\"]=X_bed[\"NUM_ICU_BEDS\"]/X_bed[\"TotalPop\"]*100\n",
    "X_bed[\"AVG_VENTILATOR_USAGE\"]=X_bed[\"AVG_VENTILATOR_USAGE\"]/X_bed[\"TotalPop\"]*100"
   ]
  },
  {
   "cell_type": "code",
   "execution_count": 295,
   "metadata": {},
   "outputs": [
    {
     "data": {
      "text/html": [
       "<div>\n",
       "<style scoped>\n",
       "    .dataframe tbody tr th:only-of-type {\n",
       "        vertical-align: middle;\n",
       "    }\n",
       "\n",
       "    .dataframe tbody tr th {\n",
       "        vertical-align: top;\n",
       "    }\n",
       "\n",
       "    .dataframe thead th {\n",
       "        text-align: right;\n",
       "    }\n",
       "</style>\n",
       "<table border=\"1\" class=\"dataframe\">\n",
       "  <thead>\n",
       "    <tr style=\"text-align: right;\">\n",
       "      <th></th>\n",
       "      <th>NUM_STAFFED_BEDS</th>\n",
       "      <th>NUM_ICU_BEDS</th>\n",
       "      <th>AVG_VENTILATOR_USAGE</th>\n",
       "    </tr>\n",
       "  </thead>\n",
       "  <tbody>\n",
       "    <tr>\n",
       "      <th>Abbeville</th>\n",
       "      <td>0.000407</td>\n",
       "      <td>0.000098</td>\n",
       "      <td>0.000033</td>\n",
       "    </tr>\n",
       "    <tr>\n",
       "      <th>Acadia</th>\n",
       "      <td>0.000367</td>\n",
       "      <td>0.000018</td>\n",
       "      <td>0.000008</td>\n",
       "    </tr>\n",
       "    <tr>\n",
       "      <th>Accomack</th>\n",
       "      <td>0.000427</td>\n",
       "      <td>0.000093</td>\n",
       "      <td>0.000028</td>\n",
       "    </tr>\n",
       "    <tr>\n",
       "      <th>Ada</th>\n",
       "      <td>0.000065</td>\n",
       "      <td>0.000005</td>\n",
       "      <td>0.000001</td>\n",
       "    </tr>\n",
       "    <tr>\n",
       "      <th>Adair</th>\n",
       "      <td>0.000193</td>\n",
       "      <td>0.000035</td>\n",
       "      <td>0.000005</td>\n",
       "    </tr>\n",
       "  </tbody>\n",
       "</table>\n",
       "</div>"
      ],
      "text/plain": [
       "           NUM_STAFFED_BEDS  NUM_ICU_BEDS  AVG_VENTILATOR_USAGE\n",
       "Abbeville          0.000407      0.000098              0.000033\n",
       "Acadia             0.000367      0.000018              0.000008\n",
       "Accomack           0.000427      0.000093              0.000028\n",
       "Ada                0.000065      0.000005              0.000001\n",
       "Adair              0.000193      0.000035              0.000005"
      ]
     },
     "execution_count": 295,
     "metadata": {},
     "output_type": "execute_result"
    }
   ],
   "source": [
    "X_bed=X_bed[['NUM_STAFFED_BEDS',\"NUM_ICU_BEDS\",\"AVG_VENTILATOR_USAGE\"]]\n",
    "X_bed.head()"
   ]
  },
  {
   "cell_type": "markdown",
   "metadata": {},
   "source": [
    "Number of CORONA cases "
   ]
  },
  {
   "cell_type": "code",
   "execution_count": 296,
   "metadata": {},
   "outputs": [
    {
     "name": "stdout",
     "output_type": "stream",
     "text": [
      "Feature: 0, Score: -1.78101\n",
      "Feature: 1, Score: -12.25469\n",
      "Feature: 2, Score: 9.22244\n"
     ]
    },
    {
     "data": {
      "image/png": "[encoded data removed]",
      "text/plain": [
       "<Figure size 432x288 with 1 Axes>"
      ]
     },
     "metadata": {
      "needs_background": "light"
     },
     "output_type": "display_data"
    }
   ],
   "source": [
    "X_train, X_test, y_train, y_test = train_test_split(X_bed, Y_percentofcorona, test_size=0.3, random_state=101)\n",
    "lm.fit(X_train,y_train)\n",
    "importance = lm.coef_\n",
    "for i,v in enumerate(importance):\n",
    "    print('Feature: %0d, Score: %.5f' % (i,v))\n",
    "plt.bar([x for x in range(len(importance))], importance)\n",
    "plt.show()\n"
   ]
  },
  {
   "cell_type": "markdown",
   "metadata": {},
   "source": [
    "Mortality Rate"
   ]
  },
  {
   "cell_type": "code",
   "execution_count": 297,
   "metadata": {},
   "outputs": [
    {
     "name": "stdout",
     "output_type": "stream",
     "text": [
      "Feature: 0, Score: -0.20369\n",
      "Feature: 1, Score: -0.22140\n",
      "Feature: 2, Score: 2.30981\n"
     ]
    },
    {
     "data": {
      "image/png": "[encoded data removed]",
      "text/plain": [
       "<Figure size 432x288 with 1 Axes>"
      ]
     },
     "metadata": {
      "needs_background": "light"
     },
     "output_type": "display_data"
    }
   ],
   "source": [
    "X_train, X_test, y_train, y_test = train_test_split(X_bed, Y_mortality, test_size=0.3, random_state=101)\n",
    "lm.fit(X_train,y_train)\n",
    "importance = lm.coef_\n",
    "for i,v in enumerate(importance):\n",
    "    print('Feature: %0d, Score: %.5f' % (i,v))\n",
    "plt.bar([x for x in range(len(importance))], importance)\n",
    "plt.show()"
   ]
  },
  {
   "cell_type": "markdown",
   "metadata": {},
   "source": [
    "Fatality Rate"
   ]
  },
  {
   "cell_type": "code",
   "execution_count": 298,
   "metadata": {},
   "outputs": [
    {
     "name": "stdout",
     "output_type": "stream",
     "text": [
      "Feature: 0, Score: -74.67803\n",
      "Feature: 1, Score: -140.97776\n",
      "Feature: 2, Score: 768.42727\n"
     ]
    },
    {
     "data": {
      "image/png": "[encoded data removed]",
      "text/plain": [
       "<Figure size 432x288 with 1 Axes>"
      ]
     },
     "metadata": {
      "needs_background": "light"
     },
     "output_type": "display_data"
    }
   ],
   "source": [
    "X_train, X_test, y_train, y_test = train_test_split(X_bed, Y_fatality, test_size=0.3, random_state=101)\n",
    "lm.fit(X_train,y_train)\n",
    "importance = lm.coef_\n",
    "for i,v in enumerate(importance):\n",
    "    print('Feature: %0d, Score: %.5f' % (i,v))\n",
    "plt.bar([x for x in range(len(importance))], importance)\n",
    "plt.show()"
   ]
  },
  {
   "cell_type": "code",
   "execution_count": null,
   "metadata": {},
   "outputs": [],
   "source": []
  }
 ],
 "metadata": {
  "kernelspec": {
   "display_name": "Python 3",
   "language": "python",
   "name": "python3"
  },
  "language_info": {
   "codemirror_mode": {
    "name": "ipython",
    "version": 3
   },
   "file_extension": ".py",
   "mimetype": "text/x-python",
   "name": "python",
   "nbconvert_exporter": "python",
   "pygments_lexer": "ipython3",
   "version": "3.7.1"
  }
 },
 "nbformat": 4,
 "nbformat_minor": 2
}
